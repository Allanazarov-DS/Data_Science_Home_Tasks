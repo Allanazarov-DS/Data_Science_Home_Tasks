{
  "cells": [
    {
      "cell_type": "code",
      "execution_count": 60,
      "metadata": {
        "id": "7BgpMTO5akG_"
      },
      "outputs": [],
      "source": [
        "import numpy as np\n",
        "import pandas as pd\n",
        "from sklearn.datasets import fetch_california_housing\n",
        "from sklearn.linear_model import *\n",
        "from sklearn.model_selection import cross_val_score, KFold, train_test_split\n",
        "from sklearn.metrics import mean_squared_error, mean_absolute_error, r2_score, median_absolute_error\n",
        "from sklearn.preprocessing import OrdinalEncoder\n",
        "from sklearn.pipeline import Pipeline\n",
        "from sklearn.model_selection import GridSearchCV, train_test_split, RandomizedSearchCV\n",
        "from sklearn.preprocessing import PolynomialFeatures\n",
        "from sklearn.feature_selection import RFE, RFECV\n",
        "import warnings\n",
        "import re\n",
        "import seaborn as sns\n",
        "import plotly.express as px\n",
        "import matplotlib.pyplot as plt\n",
        "warnings.filterwarnings('ignore')"
      ]
    },
    {
      "cell_type": "code",
      "execution_count": 61,
      "metadata": {
        "colab": {
          "base_uri": "https://localhost:8080/"
        },
        "id": "MCMNLdMXbvR9",
        "outputId": "65ef6445-ae79-4de5-ad95-0f4b7375fc5e"
      },
      "outputs": [
        {
          "data": {
            "text/plain": [
              "(54273, 13)"
            ]
          },
          "execution_count": 61,
          "metadata": {},
          "output_type": "execute_result"
        }
      ],
      "source": [
        "df = pd.read_csv('car_prices.csv')\n",
        "df.shape"
      ]
    },
    {
      "cell_type": "code",
      "execution_count": 62,
      "metadata": {
        "colab": {
          "base_uri": "https://localhost:8080/",
          "height": 694
        },
        "id": "i7qRV8k2by1Q",
        "outputId": "bb01e059-857a-4cee-e15f-5302557d36e4"
      },
      "outputs": [
        {
          "data": {
            "text/html": [
              "<div>\n",
              "<style scoped>\n",
              "    .dataframe tbody tr th:only-of-type {\n",
              "        vertical-align: middle;\n",
              "    }\n",
              "\n",
              "    .dataframe tbody tr th {\n",
              "        vertical-align: top;\n",
              "    }\n",
              "\n",
              "    .dataframe thead th {\n",
              "        text-align: right;\n",
              "    }\n",
              "</style>\n",
              "<table border=\"1\" class=\"dataframe\">\n",
              "  <thead>\n",
              "    <tr style=\"text-align: right;\">\n",
              "      <th></th>\n",
              "      <th>id</th>\n",
              "      <th>brand</th>\n",
              "      <th>model</th>\n",
              "      <th>model_year</th>\n",
              "      <th>milage</th>\n",
              "      <th>fuel_type</th>\n",
              "      <th>engine</th>\n",
              "      <th>transmission</th>\n",
              "      <th>ext_col</th>\n",
              "      <th>int_col</th>\n",
              "      <th>accident</th>\n",
              "      <th>clean_title</th>\n",
              "      <th>price</th>\n",
              "    </tr>\n",
              "  </thead>\n",
              "  <tbody>\n",
              "    <tr>\n",
              "      <th>0</th>\n",
              "      <td>0</td>\n",
              "      <td>Ford</td>\n",
              "      <td>F-150 Lariat</td>\n",
              "      <td>2018</td>\n",
              "      <td>74349</td>\n",
              "      <td>Gasoline</td>\n",
              "      <td>375.0HP 3.5L V6 Cylinder Engine Gasoline Fuel</td>\n",
              "      <td>10-Speed A/T</td>\n",
              "      <td>Blue</td>\n",
              "      <td>Gray</td>\n",
              "      <td>None reported</td>\n",
              "      <td>Yes</td>\n",
              "      <td>11000</td>\n",
              "    </tr>\n",
              "    <tr>\n",
              "      <th>1</th>\n",
              "      <td>1</td>\n",
              "      <td>BMW</td>\n",
              "      <td>335 i</td>\n",
              "      <td>2007</td>\n",
              "      <td>80000</td>\n",
              "      <td>Gasoline</td>\n",
              "      <td>300.0HP 3.0L Straight 6 Cylinder Engine Gasoli...</td>\n",
              "      <td>6-Speed M/T</td>\n",
              "      <td>Black</td>\n",
              "      <td>Black</td>\n",
              "      <td>None reported</td>\n",
              "      <td>Yes</td>\n",
              "      <td>8250</td>\n",
              "    </tr>\n",
              "    <tr>\n",
              "      <th>2</th>\n",
              "      <td>2</td>\n",
              "      <td>Jaguar</td>\n",
              "      <td>XF Luxury</td>\n",
              "      <td>2009</td>\n",
              "      <td>91491</td>\n",
              "      <td>Gasoline</td>\n",
              "      <td>300.0HP 4.2L 8 Cylinder Engine Gasoline Fuel</td>\n",
              "      <td>6-Speed A/T</td>\n",
              "      <td>Purple</td>\n",
              "      <td>Beige</td>\n",
              "      <td>None reported</td>\n",
              "      <td>Yes</td>\n",
              "      <td>15000</td>\n",
              "    </tr>\n",
              "    <tr>\n",
              "      <th>3</th>\n",
              "      <td>3</td>\n",
              "      <td>BMW</td>\n",
              "      <td>X7 xDrive40i</td>\n",
              "      <td>2022</td>\n",
              "      <td>2437</td>\n",
              "      <td>Hybrid</td>\n",
              "      <td>335.0HP 3.0L Straight 6 Cylinder Engine Gasoli...</td>\n",
              "      <td>Transmission w/Dual Shift Mode</td>\n",
              "      <td>Gray</td>\n",
              "      <td>Brown</td>\n",
              "      <td>None reported</td>\n",
              "      <td>Yes</td>\n",
              "      <td>63500</td>\n",
              "    </tr>\n",
              "    <tr>\n",
              "      <th>4</th>\n",
              "      <td>4</td>\n",
              "      <td>Pontiac</td>\n",
              "      <td>Firebird Base</td>\n",
              "      <td>2001</td>\n",
              "      <td>111000</td>\n",
              "      <td>Gasoline</td>\n",
              "      <td>200.0HP 3.8L V6 Cylinder Engine Gasoline Fuel</td>\n",
              "      <td>A/T</td>\n",
              "      <td>White</td>\n",
              "      <td>Black</td>\n",
              "      <td>None reported</td>\n",
              "      <td>Yes</td>\n",
              "      <td>7850</td>\n",
              "    </tr>\n",
              "  </tbody>\n",
              "</table>\n",
              "</div>"
            ],
            "text/plain": [
              "   id    brand          model  model_year  milage fuel_type  \\\n",
              "0   0     Ford   F-150 Lariat        2018   74349  Gasoline   \n",
              "1   1      BMW          335 i        2007   80000  Gasoline   \n",
              "2   2   Jaguar      XF Luxury        2009   91491  Gasoline   \n",
              "3   3      BMW   X7 xDrive40i        2022    2437    Hybrid   \n",
              "4   4  Pontiac  Firebird Base        2001  111000  Gasoline   \n",
              "\n",
              "                                              engine  \\\n",
              "0      375.0HP 3.5L V6 Cylinder Engine Gasoline Fuel   \n",
              "1  300.0HP 3.0L Straight 6 Cylinder Engine Gasoli...   \n",
              "2       300.0HP 4.2L 8 Cylinder Engine Gasoline Fuel   \n",
              "3  335.0HP 3.0L Straight 6 Cylinder Engine Gasoli...   \n",
              "4      200.0HP 3.8L V6 Cylinder Engine Gasoline Fuel   \n",
              "\n",
              "                     transmission ext_col int_col       accident clean_title  \\\n",
              "0                    10-Speed A/T    Blue    Gray  None reported         Yes   \n",
              "1                     6-Speed M/T   Black   Black  None reported         Yes   \n",
              "2                     6-Speed A/T  Purple   Beige  None reported         Yes   \n",
              "3  Transmission w/Dual Shift Mode    Gray   Brown  None reported         Yes   \n",
              "4                             A/T   White   Black  None reported         Yes   \n",
              "\n",
              "   price  \n",
              "0  11000  \n",
              "1   8250  \n",
              "2  15000  \n",
              "3  63500  \n",
              "4   7850  "
            ]
          },
          "execution_count": 62,
          "metadata": {},
          "output_type": "execute_result"
        }
      ],
      "source": [
        "df.head()"
      ]
    },
    {
      "cell_type": "code",
      "execution_count": 63,
      "metadata": {
        "colab": {
          "base_uri": "https://localhost:8080/"
        },
        "id": "1mtrFicscB1q",
        "outputId": "f3353a69-9390-45d5-aa59-e3a9d4491b3f"
      },
      "outputs": [
        {
          "name": "stdout",
          "output_type": "stream",
          "text": [
            "id: 54273\n",
            "brand: 53\n",
            "model: 1827\n",
            "model_year: 34\n",
            "milage: 3212\n",
            "fuel_type: 7\n",
            "engine: 1061\n",
            "transmission: 46\n",
            "ext_col: 260\n",
            "int_col: 124\n",
            "accident: 2\n",
            "clean_title: 1\n",
            "price: 1481\n"
          ]
        }
      ],
      "source": [
        "for col in df.columns:\n",
        "    print(f'{col}: {df[col].nunique()}')"
      ]
    },
    {
      "cell_type": "markdown",
      "metadata": {
        "id": "TZG3KlJ3hVAY"
      },
      "source": [
        "#### Kerakliy funksiyalarni yozamiz"
      ]
    },
    {
      "cell_type": "code",
      "execution_count": 64,
      "metadata": {
        "id": "IA-a78IouyrN"
      },
      "outputs": [],
      "source": [
        "def parse_engine_info(engine):\n",
        "    # engine ustunidan ma'lumotlarni ajratib olamiz\n",
        "    if pd.isna(engine):\n",
        "        return pd.Series([np.nan, np.nan, np.nan, np.nan, np.nan])\n",
        "\n",
        "    hp = re.search(r'(\\d+\\.?\\d*)HP', engine)\n",
        "    liter = re.search(r'(\\d+\\.?\\d*)L', engine)\n",
        "    motor = re.search(r'(Straight|V)\\s*\\d*', engine)\n",
        "    cylinder = re.search(r'(\\d+)\\s*Cylinder', engine)\n",
        "    fuel = re.search(r'(Gasoline|Hybrid|Flex|Diesel)', engine)\n",
        "\n",
        "    return pd.Series([\n",
        "        hp.group(1) if hp else np.nan,\n",
        "        liter.group(1) if liter else np.nan,\n",
        "        motor.group(0) if motor else np.nan,\n",
        "        cylinder.group(1) if cylinder else np.nan,\n",
        "        fuel.group(1) if fuel else np.nan\n",
        "    ])\n",
        "\n",
        "\n",
        "def fill_nan_mean(df, col, columns):\n",
        "    # numeric ustunlar uchun fill nall funcsiya\n",
        "    print(f\"Col: {col}, Columns: {columns}, Nan: {df[col].isna().sum()}\", end='')\n",
        "    value = df[df[col].notna()].groupby(by=columns)[col].mean().reset_index()\n",
        "    df = pd.merge(df, value, on=columns, how='left', suffixes=('', '_mean'))\n",
        "    df[col] = df[col].fillna(df[col + '_mean'])\n",
        "    df.drop(columns=[col + '_mean'], inplace=True)\n",
        "    print(f\", After Clean: {df[col].isna().sum()}\")\n",
        "    return df\n",
        "\n",
        "\n",
        "def fill_nan_mode(df, col, columns):\n",
        "    # object ustunlar uchun fill nall funcsiya\n",
        "    print(f\"Col: {col}, Columns: {columns}, Nan: {df[col].isna().sum()}\", end='')\n",
        "    mode_values = df.groupby(columns)[col].apply(lambda x: x.mode().iloc[0] if not x.mode().empty else pd.NA).reset_index()\n",
        "    df = pd.merge(df, mode_values, on=columns, how='left', suffixes=('', '_mode'))\n",
        "    df[col] = df[col].fillna(df[col + '_mode'])\n",
        "    df.drop(columns=[col + '_mode'], inplace=True)\n",
        "\n",
        "    print(f\", After Clean: {df[col].isna().sum()}\")\n",
        "    return df\n",
        "\n",
        "def to_numeric(x):\n",
        "    try:\n",
        "        return float(x)\n",
        "    except ValueError as err:\n",
        "        print(err)\n",
        "        return np.nan\n",
        "\n",
        "\n",
        "def ordinal_encoder(df, column, on):\n",
        "    # object ustunlni 'price' ustuniga soslanib sortlayb raqamga aylantiradi va yangi ustun yaratadi\n",
        "    avg_prices = df.groupby(column)[on].mean().reset_index()\n",
        "    avg_prices.columns = [column, 'avg_price']\n",
        "    avg_prices = avg_prices.sort_values(by='avg_price').reset_index(drop=True)\n",
        "    avg_prices[column+'_rank'] = avg_prices.index + 1\n",
        "    return pd.merge(df, avg_prices[[column, column+'_rank']], on=column, how='left')"
      ]
    },
    {
      "cell_type": "markdown",
      "metadata": {
        "id": "dj7m4xGIi87m"
      },
      "source": [
        "#### engine ustunidagi ma'lumotlarni ajratib olamiz"
      ]
    },
    {
      "cell_type": "code",
      "execution_count": 65,
      "metadata": {
        "id": "9frPtiYNg_ub"
      },
      "outputs": [],
      "source": [
        "new_columns = ['hp', 'litr', 'motor', 'Cylinder', 'fuel']\n",
        "df[new_columns] = df['engine'].apply(parse_engine_info)"
      ]
    },
    {
      "cell_type": "markdown",
      "metadata": {
        "id": "csS5K9umjDLq"
      },
      "source": [
        "#### bizga keragsiz data"
      ]
    },
    {
      "cell_type": "code",
      "execution_count": 66,
      "metadata": {
        "id": "coAGL5SWhVuJ"
      },
      "outputs": [],
      "source": [
        "df = df.drop(columns=['clean_title', 'id'])"
      ]
    },
    {
      "cell_type": "code",
      "execution_count": 67,
      "metadata": {
        "colab": {
          "base_uri": "https://localhost:8080/",
          "height": 187
        },
        "id": "jXus0b0VhMX5",
        "outputId": "949db6b7-d948-41c0-c136-21336f21308a"
      },
      "outputs": [
        {
          "data": {
            "text/html": [
              "<div>\n",
              "<style scoped>\n",
              "    .dataframe tbody tr th:only-of-type {\n",
              "        vertical-align: middle;\n",
              "    }\n",
              "\n",
              "    .dataframe tbody tr th {\n",
              "        vertical-align: top;\n",
              "    }\n",
              "\n",
              "    .dataframe thead th {\n",
              "        text-align: right;\n",
              "    }\n",
              "</style>\n",
              "<table border=\"1\" class=\"dataframe\">\n",
              "  <thead>\n",
              "    <tr style=\"text-align: right;\">\n",
              "      <th></th>\n",
              "      <th>brand</th>\n",
              "      <th>model</th>\n",
              "      <th>model_year</th>\n",
              "      <th>milage</th>\n",
              "      <th>fuel_type</th>\n",
              "      <th>engine</th>\n",
              "      <th>transmission</th>\n",
              "      <th>ext_col</th>\n",
              "      <th>int_col</th>\n",
              "      <th>accident</th>\n",
              "      <th>price</th>\n",
              "      <th>hp</th>\n",
              "      <th>litr</th>\n",
              "      <th>motor</th>\n",
              "      <th>Cylinder</th>\n",
              "      <th>fuel</th>\n",
              "    </tr>\n",
              "  </thead>\n",
              "  <tbody>\n",
              "    <tr>\n",
              "      <th>0</th>\n",
              "      <td>Ford</td>\n",
              "      <td>F-150 Lariat</td>\n",
              "      <td>2018</td>\n",
              "      <td>74349</td>\n",
              "      <td>Gasoline</td>\n",
              "      <td>375.0HP 3.5L V6 Cylinder Engine Gasoline Fuel</td>\n",
              "      <td>10-Speed A/T</td>\n",
              "      <td>Blue</td>\n",
              "      <td>Gray</td>\n",
              "      <td>None reported</td>\n",
              "      <td>11000</td>\n",
              "      <td>375.0</td>\n",
              "      <td>3.5</td>\n",
              "      <td>V6</td>\n",
              "      <td>6</td>\n",
              "      <td>Gasoline</td>\n",
              "    </tr>\n",
              "  </tbody>\n",
              "</table>\n",
              "</div>"
            ],
            "text/plain": [
              "  brand         model  model_year  milage fuel_type  \\\n",
              "0  Ford  F-150 Lariat        2018   74349  Gasoline   \n",
              "\n",
              "                                          engine  transmission ext_col  \\\n",
              "0  375.0HP 3.5L V6 Cylinder Engine Gasoline Fuel  10-Speed A/T    Blue   \n",
              "\n",
              "  int_col       accident  price     hp litr motor Cylinder      fuel  \n",
              "0    Gray  None reported  11000  375.0  3.5    V6        6  Gasoline  "
            ]
          },
          "execution_count": 67,
          "metadata": {},
          "output_type": "execute_result"
        }
      ],
      "source": [
        "df.head(1)"
      ]
    },
    {
      "cell_type": "code",
      "execution_count": 68,
      "metadata": {
        "colab": {
          "base_uri": "https://localhost:8080/",
          "height": 240
        },
        "id": "PYmeIIjsj8bq",
        "outputId": "e1e17da7-2c2d-486d-fb64-f28db352ce6c"
      },
      "outputs": [
        {
          "data": {
            "text/plain": [
              "hp           4057\n",
              "litr          606\n",
              "motor       29640\n",
              "Cylinder     4175\n",
              "fuel         4258\n",
              "dtype: int64"
            ]
          },
          "execution_count": 68,
          "metadata": {},
          "output_type": "execute_result"
        }
      ],
      "source": [
        "df[new_columns].isna().sum()"
      ]
    },
    {
      "cell_type": "markdown",
      "metadata": {
        "id": "9PHaSqgBjGqt"
      },
      "source": [
        "#### Nan qiymatlarni tuldirib chiqamiz"
      ]
    },
    {
      "cell_type": "code",
      "execution_count": 69,
      "metadata": {
        "colab": {
          "base_uri": "https://localhost:8080/"
        },
        "id": "q75N2_RxvPQB",
        "outputId": "e5d04e69-808d-408b-da9f-8fe66be1fa84"
      },
      "outputs": [
        {
          "name": "stdout",
          "output_type": "stream",
          "text": [
            "Col: hp, Columns: ['motor', 'Cylinder', 'litr'], Nan: 4057, After Clean: 4055\n",
            "Col: hp, Columns: ['motor', 'litr'], Nan: 4055, After Clean: 2809\n",
            "Col: hp, Columns: ['brand', 'model'], Nan: 2809, After Clean: 369\n",
            "Col: hp, Columns: ['litr', 'fuel_type'], Nan: 369, After Clean: 119\n",
            "Col: hp, Columns: ['model'], Nan: 119, After Clean: 111\n",
            "Col: hp, Columns: ['motor'], Nan: 111, After Clean: 107\n",
            "Col: hp, Columns: ['price', 'brand'], Nan: 107, After Clean: 23\n",
            "Col: hp, Columns: ['price', 'fuel_type'], Nan: 23, After Clean: 14\n",
            "Col: hp, Columns: ['engine'], Nan: 14, After Clean: 0\n",
            "0\n"
          ]
        }
      ],
      "source": [
        "df['hp'] = df['hp'].agg(to_numeric)\n",
        "\n",
        "df = fill_nan_mean(df.copy(), 'hp', ['motor', 'Cylinder', 'litr'])\n",
        "df = fill_nan_mean(df.copy(), 'hp', ['motor', 'litr'])\n",
        "df = fill_nan_mean(df.copy(), 'hp', ['brand', 'model'])\n",
        "df = fill_nan_mean(df.copy(), 'hp', ['litr', 'fuel_type'])\n",
        "df = fill_nan_mean(df.copy(), 'hp', ['model'])\n",
        "df = fill_nan_mean(df.copy(), 'hp', ['motor'])\n",
        "df = fill_nan_mean(df.copy(), 'hp', ['price', 'brand'])\n",
        "df = fill_nan_mean(df.copy(), 'hp', ['price', 'fuel_type'])\n",
        "df = fill_nan_mean(df.copy(), 'hp', ['engine'])\n",
        "\n",
        "\n",
        "\n",
        "print(df['hp'].isna().sum())"
      ]
    },
    {
      "cell_type": "code",
      "execution_count": 70,
      "metadata": {
        "colab": {
          "base_uri": "https://localhost:8080/"
        },
        "id": "ov01mu7S16Tb",
        "outputId": "c5fdfd25-1041-49dd-9d9b-0c64ebbb9da9"
      },
      "outputs": [
        {
          "name": "stdout",
          "output_type": "stream",
          "text": [
            "Col: litr, Columns: ['motor', 'Cylinder', 'hp'], Nan: 606, After Clean: 606\n",
            "Col: litr, Columns: ['hp', 'fuel_type'], Nan: 606, After Clean: 396\n",
            "Col: litr, Columns: ['model'], Nan: 396, After Clean: 124\n",
            "Col: litr, Columns: ['engine'], Nan: 124, After Clean: 46\n",
            "Col: litr, Columns: ['price', 'fuel_type'], Nan: 46, After Clean: 3\n",
            "Col: litr, Columns: ['price', 'transmission'], Nan: 3, After Clean: 0\n",
            "0\n"
          ]
        }
      ],
      "source": [
        "df['litr'] = df['litr'].agg(to_numeric)\n",
        "\n",
        "\n",
        "df = fill_nan_mean(df.copy(), 'litr', ['motor', 'Cylinder', 'hp'])\n",
        "# df = fill_nan_mean(df.copy(), 'litr', ['Cylinder', 'hp'])\n",
        "# df = fill_nan_mean(df.copy(), 'litr', ['motor', 'hp'])\n",
        "df = fill_nan_mean(df.copy(), 'litr', ['hp', 'fuel_type'])\n",
        "df = fill_nan_mean(df.copy(), 'litr', ['model'])\n",
        "df = fill_nan_mean(df.copy(), 'litr', ['engine'])\n",
        "df = fill_nan_mean(df.copy(), 'litr', ['price', 'fuel_type'])\n",
        "df = fill_nan_mean(df.copy(), 'litr', ['price', 'transmission'])\n",
        "\n",
        "\n",
        "print(df['litr'].isna().sum())"
      ]
    },
    {
      "cell_type": "code",
      "execution_count": 71,
      "metadata": {
        "colab": {
          "base_uri": "https://localhost:8080/"
        },
        "id": "OTor3ZGhZzjY",
        "outputId": "7fea6cd2-cd26-4a1e-d7da-2242ee76c466"
      },
      "outputs": [
        {
          "name": "stdout",
          "output_type": "stream",
          "text": [
            "Col: Cylinder, Columns: ['litr', 'hp'], Nan: 4175, After Clean: 3772\n",
            "Col: Cylinder, Columns: ['litr', 'model'], Nan: 3772, After Clean: 1383\n",
            "Col: Cylinder, Columns: ['hp', 'model'], Nan: 1383, After Clean: 1033\n",
            "Col: Cylinder, Columns: ['model'], Nan: 1033, After Clean: 632\n",
            "Col: Cylinder, Columns: ['hp', 'fuel_type'], Nan: 632, After Clean: 214\n",
            "Col: Cylinder, Columns: ['price', 'fuel_type'], Nan: 214, After Clean: 32\n",
            "Col: Cylinder, Columns: ['price', 'transmission'], Nan: 32, After Clean: 8\n",
            "Col: Cylinder, Columns: ['litr', 'fuel_type'], Nan: 8, After Clean: 2\n",
            "Col: Cylinder, Columns: ['engine'], Nan: 2, After Clean: 0\n",
            "0\n"
          ]
        }
      ],
      "source": [
        "df['Cylinder'] = df['Cylinder'].agg(to_numeric)\n",
        "\n",
        "df = fill_nan_mean(df.copy(), 'Cylinder', ['litr', 'hp'])\n",
        "df = fill_nan_mean(df.copy(), 'Cylinder', ['litr', 'model'])\n",
        "df = fill_nan_mean(df.copy(), 'Cylinder', ['hp', 'model'])\n",
        "df = fill_nan_mean(df.copy(), 'Cylinder', ['model'])\n",
        "df = fill_nan_mean(df.copy(), 'Cylinder', ['hp', 'fuel_type'])\n",
        "df = fill_nan_mean(df.copy(), 'Cylinder', ['price', 'fuel_type'])\n",
        "df = fill_nan_mean(df.copy(), 'Cylinder', ['price', 'transmission'])\n",
        "df = fill_nan_mean(df.copy(), 'Cylinder', ['litr', 'fuel_type'])\n",
        "df = fill_nan_mean(df.copy(), 'Cylinder', ['engine'])\n",
        "\n",
        "\n",
        "print(df['Cylinder'].isna().sum())"
      ]
    },
    {
      "cell_type": "code",
      "execution_count": 72,
      "metadata": {
        "colab": {
          "base_uri": "https://localhost:8080/"
        },
        "id": "044j9S1WtZ6h",
        "outputId": "9ee0e89c-fb8b-47d8-80db-da4cb9ca795a"
      },
      "outputs": [
        {
          "data": {
            "text/plain": [
              "Index(['brand', 'model', 'model_year', 'milage', 'fuel_type', 'engine',\n",
              "       'transmission', 'ext_col', 'int_col', 'accident', 'price', 'hp', 'litr',\n",
              "       'motor', 'Cylinder', 'fuel'],\n",
              "      dtype='object')"
            ]
          },
          "execution_count": 72,
          "metadata": {},
          "output_type": "execute_result"
        }
      ],
      "source": [
        "df.columns"
      ]
    },
    {
      "cell_type": "code",
      "execution_count": 73,
      "metadata": {
        "colab": {
          "base_uri": "https://localhost:8080/",
          "height": 187
        },
        "id": "doX-eUI3tpRd",
        "outputId": "166200ca-b1fa-4b46-d10d-0fff8c42b770"
      },
      "outputs": [
        {
          "data": {
            "text/html": [
              "<div>\n",
              "<style scoped>\n",
              "    .dataframe tbody tr th:only-of-type {\n",
              "        vertical-align: middle;\n",
              "    }\n",
              "\n",
              "    .dataframe tbody tr th {\n",
              "        vertical-align: top;\n",
              "    }\n",
              "\n",
              "    .dataframe thead th {\n",
              "        text-align: right;\n",
              "    }\n",
              "</style>\n",
              "<table border=\"1\" class=\"dataframe\">\n",
              "  <thead>\n",
              "    <tr style=\"text-align: right;\">\n",
              "      <th></th>\n",
              "      <th>brand</th>\n",
              "      <th>model</th>\n",
              "      <th>model_year</th>\n",
              "      <th>milage</th>\n",
              "      <th>fuel_type</th>\n",
              "      <th>engine</th>\n",
              "      <th>transmission</th>\n",
              "      <th>ext_col</th>\n",
              "      <th>int_col</th>\n",
              "      <th>accident</th>\n",
              "      <th>price</th>\n",
              "      <th>hp</th>\n",
              "      <th>litr</th>\n",
              "      <th>motor</th>\n",
              "      <th>Cylinder</th>\n",
              "      <th>fuel</th>\n",
              "    </tr>\n",
              "  </thead>\n",
              "  <tbody>\n",
              "    <tr>\n",
              "      <th>0</th>\n",
              "      <td>Ford</td>\n",
              "      <td>F-150 Lariat</td>\n",
              "      <td>2018</td>\n",
              "      <td>74349</td>\n",
              "      <td>Gasoline</td>\n",
              "      <td>375.0HP 3.5L V6 Cylinder Engine Gasoline Fuel</td>\n",
              "      <td>10-Speed A/T</td>\n",
              "      <td>Blue</td>\n",
              "      <td>Gray</td>\n",
              "      <td>None reported</td>\n",
              "      <td>11000</td>\n",
              "      <td>375.0</td>\n",
              "      <td>3.5</td>\n",
              "      <td>V6</td>\n",
              "      <td>6.0</td>\n",
              "      <td>Gasoline</td>\n",
              "    </tr>\n",
              "  </tbody>\n",
              "</table>\n",
              "</div>"
            ],
            "text/plain": [
              "  brand         model  model_year  milage fuel_type  \\\n",
              "0  Ford  F-150 Lariat        2018   74349  Gasoline   \n",
              "\n",
              "                                          engine  transmission ext_col  \\\n",
              "0  375.0HP 3.5L V6 Cylinder Engine Gasoline Fuel  10-Speed A/T    Blue   \n",
              "\n",
              "  int_col       accident  price     hp  litr motor  Cylinder      fuel  \n",
              "0    Gray  None reported  11000  375.0   3.5    V6       6.0  Gasoline  "
            ]
          },
          "execution_count": 73,
          "metadata": {},
          "output_type": "execute_result"
        }
      ],
      "source": [
        "df.head(1)"
      ]
    },
    {
      "cell_type": "code",
      "execution_count": 74,
      "metadata": {
        "colab": {
          "base_uri": "https://localhost:8080/"
        },
        "id": "dFPVNG3ql0z9",
        "outputId": "6b56c3e8-2c13-476a-9df8-ba0c86095579"
      },
      "outputs": [
        {
          "name": "stdout",
          "output_type": "stream",
          "text": [
            "Col: motor, Columns: ['litr', 'hp', 'Cylinder', 'model'], Nan: 29640, After Clean: 28986\n",
            "Col: motor, Columns: ['litr', 'hp', 'Cylinder'], Nan: 28986, After Clean: 21847\n",
            "Col: motor, Columns: ['litr', 'hp'], Nan: 21847, After Clean: 21438\n",
            "Col: motor, Columns: ['model'], Nan: 21438, After Clean: 6649\n",
            "Col: motor, Columns: ['engine'], Nan: 6649, After Clean: 1320\n",
            "Col: motor, Columns: ['fuel_type', 'hp'], Nan: 1320, After Clean: 522\n",
            "Col: motor, Columns: ['litr', 'Cylinder'], Nan: 522, After Clean: 76\n",
            "Col: motor, Columns: ['Cylinder', 'price'], Nan: 76, After Clean: 66\n",
            "Col: motor, Columns: ['Cylinder', 'brand'], Nan: 66, After Clean: 52\n",
            "Col: motor, Columns: ['litr', 'brand'], Nan: 52, After Clean: 40\n",
            "Col: motor, Columns: ['hp', 'brand'], Nan: 40, After Clean: 12\n",
            "Col: motor, Columns: ['hp', 'fuel'], Nan: 12, After Clean: 11\n",
            "Col: motor, Columns: ['brand', 'price'], Nan: 11, After Clean: 4\n",
            "Col: motor, Columns: ['brand', 'price'], Nan: 4, After Clean: 4\n",
            "Col: motor, Columns: ['brand', 'fuel_type'], Nan: 4, After Clean: 0\n",
            "0\n"
          ]
        }
      ],
      "source": [
        "df = fill_nan_mode(df.copy(), 'motor', ['litr', 'hp', 'Cylinder', 'model'])\n",
        "df = fill_nan_mode(df.copy(), 'motor', ['litr', 'hp', 'Cylinder'])\n",
        "df = fill_nan_mode(df.copy(), 'motor', ['litr', 'hp'])\n",
        "df = fill_nan_mode(df.copy(), 'motor', ['model'])\n",
        "df = fill_nan_mode(df.copy(), 'motor', ['engine'])\n",
        "df = fill_nan_mode(df.copy(), 'motor', ['fuel_type', 'hp'])\n",
        "df = fill_nan_mode(df.copy(), 'motor', ['litr', 'Cylinder'])\n",
        "df = fill_nan_mode(df.copy(), 'motor', ['Cylinder', 'price'])\n",
        "df = fill_nan_mode(df.copy(), 'motor', ['Cylinder', 'brand'])\n",
        "df = fill_nan_mode(df.copy(), 'motor', ['litr', 'brand'])\n",
        "df = fill_nan_mode(df.copy(), 'motor', ['hp', 'brand'])\n",
        "df = fill_nan_mode(df.copy(), 'motor', ['hp', 'fuel'])\n",
        "df = fill_nan_mode(df.copy(), 'motor', ['brand', 'price'])\n",
        "df = fill_nan_mode(df.copy(), 'motor', ['brand', 'price'])\n",
        "df = fill_nan_mode(df.copy(), 'motor', ['brand', 'fuel_type'])\n",
        "\n",
        "\n",
        "print(df['motor'].isna().sum())"
      ]
    },
    {
      "cell_type": "code",
      "execution_count": 75,
      "metadata": {
        "colab": {
          "base_uri": "https://localhost:8080/"
        },
        "id": "vtQWPzkf61VO",
        "outputId": "7387d2ac-3259-406e-c1ba-e5981a0383c1"
      },
      "outputs": [
        {
          "name": "stdout",
          "output_type": "stream",
          "text": [
            "Col: fuel, Columns: ['litr', 'hp', 'Cylinder', 'model'], Nan: 4258, After Clean: 3855\n",
            "Col: fuel, Columns: ['litr', 'hp', 'model'], Nan: 3855, After Clean: 3756\n",
            "Col: fuel, Columns: ['hp', 'model'], Nan: 3756, After Clean: 3515\n",
            "Col: fuel, Columns: ['model'], Nan: 3515, After Clean: 787\n",
            "Col: fuel, Columns: ['motor', 'hp'], Nan: 787, After Clean: 304\n",
            "Col: fuel, Columns: ['motor', 'hp'], Nan: 304, After Clean: 304\n",
            "Col: fuel, Columns: ['motor', 'Cylinder'], Nan: 304, After Clean: 182\n",
            "Col: fuel, Columns: ['motor', 'litr'], Nan: 182, After Clean: 58\n",
            "Col: fuel, Columns: ['motor'], Nan: 58, After Clean: 0\n",
            "0\n"
          ]
        }
      ],
      "source": [
        "df = fill_nan_mode(df.copy(), 'fuel', ['litr', 'hp', 'Cylinder', 'model'])\n",
        "df = fill_nan_mode(df.copy(), 'fuel', ['litr', 'hp', 'model'])\n",
        "df = fill_nan_mode(df.copy(), 'fuel', ['hp', 'model'])\n",
        "df = fill_nan_mode(df.copy(), 'fuel', ['model'])\n",
        "df = fill_nan_mode(df.copy(), 'fuel', ['motor', 'hp'])\n",
        "df = fill_nan_mode(df.copy(), 'fuel', ['motor', 'hp'])\n",
        "df = fill_nan_mode(df.copy(), 'fuel', ['motor', 'Cylinder'])\n",
        "df = fill_nan_mode(df.copy(), 'fuel', ['motor', 'litr'])\n",
        "df = fill_nan_mode(df.copy(), 'fuel', ['motor'])\n",
        "\n",
        "print(df['fuel'].isna().sum())"
      ]
    },
    {
      "cell_type": "code",
      "execution_count": 76,
      "metadata": {
        "colab": {
          "base_uri": "https://localhost:8080/",
          "height": 187
        },
        "id": "U0ravVNZ7RRI",
        "outputId": "018fdccf-535b-4083-aac5-60320152ac3b"
      },
      "outputs": [
        {
          "data": {
            "text/html": [
              "<div>\n",
              "<style scoped>\n",
              "    .dataframe tbody tr th:only-of-type {\n",
              "        vertical-align: middle;\n",
              "    }\n",
              "\n",
              "    .dataframe tbody tr th {\n",
              "        vertical-align: top;\n",
              "    }\n",
              "\n",
              "    .dataframe thead th {\n",
              "        text-align: right;\n",
              "    }\n",
              "</style>\n",
              "<table border=\"1\" class=\"dataframe\">\n",
              "  <thead>\n",
              "    <tr style=\"text-align: right;\">\n",
              "      <th></th>\n",
              "      <th>brand</th>\n",
              "      <th>model</th>\n",
              "      <th>model_year</th>\n",
              "      <th>milage</th>\n",
              "      <th>fuel_type</th>\n",
              "      <th>engine</th>\n",
              "      <th>transmission</th>\n",
              "      <th>ext_col</th>\n",
              "      <th>int_col</th>\n",
              "      <th>accident</th>\n",
              "      <th>price</th>\n",
              "      <th>hp</th>\n",
              "      <th>litr</th>\n",
              "      <th>motor</th>\n",
              "      <th>Cylinder</th>\n",
              "      <th>fuel</th>\n",
              "    </tr>\n",
              "  </thead>\n",
              "  <tbody>\n",
              "    <tr>\n",
              "      <th>0</th>\n",
              "      <td>Ford</td>\n",
              "      <td>F-150 Lariat</td>\n",
              "      <td>2018</td>\n",
              "      <td>74349</td>\n",
              "      <td>Gasoline</td>\n",
              "      <td>375.0HP 3.5L V6 Cylinder Engine Gasoline Fuel</td>\n",
              "      <td>10-Speed A/T</td>\n",
              "      <td>Blue</td>\n",
              "      <td>Gray</td>\n",
              "      <td>None reported</td>\n",
              "      <td>11000</td>\n",
              "      <td>375.0</td>\n",
              "      <td>3.5</td>\n",
              "      <td>V6</td>\n",
              "      <td>6.0</td>\n",
              "      <td>Gasoline</td>\n",
              "    </tr>\n",
              "  </tbody>\n",
              "</table>\n",
              "</div>"
            ],
            "text/plain": [
              "  brand         model  model_year  milage fuel_type  \\\n",
              "0  Ford  F-150 Lariat        2018   74349  Gasoline   \n",
              "\n",
              "                                          engine  transmission ext_col  \\\n",
              "0  375.0HP 3.5L V6 Cylinder Engine Gasoline Fuel  10-Speed A/T    Blue   \n",
              "\n",
              "  int_col       accident  price     hp  litr motor  Cylinder      fuel  \n",
              "0    Gray  None reported  11000  375.0   3.5    V6       6.0  Gasoline  "
            ]
          },
          "execution_count": 76,
          "metadata": {},
          "output_type": "execute_result"
        }
      ],
      "source": [
        "df.head(1)"
      ]
    },
    {
      "cell_type": "code",
      "execution_count": 77,
      "metadata": {
        "colab": {
          "base_uri": "https://localhost:8080/",
          "height": 240
        },
        "id": "MopkB3sH1DvI",
        "outputId": "d253a967-06e5-432c-a1a7-9c8a1d257f0e"
      },
      "outputs": [
        {
          "data": {
            "text/plain": [
              "hp          0\n",
              "litr        0\n",
              "motor       0\n",
              "Cylinder    0\n",
              "fuel        0\n",
              "dtype: int64"
            ]
          },
          "execution_count": 77,
          "metadata": {},
          "output_type": "execute_result"
        }
      ],
      "source": [
        "df[new_columns].isna().sum()"
      ]
    },
    {
      "cell_type": "code",
      "execution_count": 78,
      "metadata": {
        "colab": {
          "base_uri": "https://localhost:8080/"
        },
        "id": "poC2puoxtyFQ",
        "outputId": "f5d8ce5a-5b5d-461b-a3ea-b2b90e3e212a"
      },
      "outputs": [
        {
          "data": {
            "text/plain": [
              "Index(['brand', 'model', 'fuel_type', 'engine', 'transmission', 'ext_col',\n",
              "       'int_col', 'accident', 'motor', 'fuel'],\n",
              "      dtype='object')"
            ]
          },
          "execution_count": 78,
          "metadata": {},
          "output_type": "execute_result"
        }
      ],
      "source": [
        "df.select_dtypes(include='object').columns"
      ]
    },
    {
      "cell_type": "code",
      "execution_count": 79,
      "metadata": {
        "id": "D_1o-Age1NpN"
      },
      "outputs": [],
      "source": [
        "for col in df.select_dtypes(include='object').columns:\n",
        "    df = ordinal_encoder(df.copy(), col, 'price')"
      ]
    },
    {
      "cell_type": "code",
      "execution_count": 80,
      "metadata": {
        "colab": {
          "base_uri": "https://localhost:8080/",
          "height": 216
        },
        "id": "SH0UgTZD1e-H",
        "outputId": "c5e2e8f3-9588-4c21-b22a-7a6cc096664a"
      },
      "outputs": [
        {
          "data": {
            "text/html": [
              "<div>\n",
              "<style scoped>\n",
              "    .dataframe tbody tr th:only-of-type {\n",
              "        vertical-align: middle;\n",
              "    }\n",
              "\n",
              "    .dataframe tbody tr th {\n",
              "        vertical-align: top;\n",
              "    }\n",
              "\n",
              "    .dataframe thead th {\n",
              "        text-align: right;\n",
              "    }\n",
              "</style>\n",
              "<table border=\"1\" class=\"dataframe\">\n",
              "  <thead>\n",
              "    <tr style=\"text-align: right;\">\n",
              "      <th></th>\n",
              "      <th>brand</th>\n",
              "      <th>model</th>\n",
              "      <th>model_year</th>\n",
              "      <th>milage</th>\n",
              "      <th>fuel_type</th>\n",
              "      <th>engine</th>\n",
              "      <th>transmission</th>\n",
              "      <th>ext_col</th>\n",
              "      <th>int_col</th>\n",
              "      <th>accident</th>\n",
              "      <th>...</th>\n",
              "      <th>brand_rank</th>\n",
              "      <th>model_rank</th>\n",
              "      <th>fuel_type_rank</th>\n",
              "      <th>engine_rank</th>\n",
              "      <th>transmission_rank</th>\n",
              "      <th>ext_col_rank</th>\n",
              "      <th>int_col_rank</th>\n",
              "      <th>accident_rank</th>\n",
              "      <th>motor_rank</th>\n",
              "      <th>fuel_rank</th>\n",
              "    </tr>\n",
              "  </thead>\n",
              "  <tbody>\n",
              "    <tr>\n",
              "      <th>0</th>\n",
              "      <td>Ford</td>\n",
              "      <td>F-150 Lariat</td>\n",
              "      <td>2018</td>\n",
              "      <td>74349</td>\n",
              "      <td>Gasoline</td>\n",
              "      <td>375.0HP 3.5L V6 Cylinder Engine Gasoline Fuel</td>\n",
              "      <td>10-Speed A/T</td>\n",
              "      <td>Blue</td>\n",
              "      <td>Gray</td>\n",
              "      <td>None reported</td>\n",
              "      <td>...</td>\n",
              "      <td>31</td>\n",
              "      <td>1256</td>\n",
              "      <td>4</td>\n",
              "      <td>821</td>\n",
              "      <td>28</td>\n",
              "      <td>91</td>\n",
              "      <td>14</td>\n",
              "      <td>2</td>\n",
              "      <td>1</td>\n",
              "      <td>3</td>\n",
              "    </tr>\n",
              "  </tbody>\n",
              "</table>\n",
              "<p>1 rows × 26 columns</p>\n",
              "</div>"
            ],
            "text/plain": [
              "  brand         model  model_year  milage fuel_type  \\\n",
              "0  Ford  F-150 Lariat        2018   74349  Gasoline   \n",
              "\n",
              "                                          engine  transmission ext_col  \\\n",
              "0  375.0HP 3.5L V6 Cylinder Engine Gasoline Fuel  10-Speed A/T    Blue   \n",
              "\n",
              "  int_col       accident  ...  brand_rank  model_rank  fuel_type_rank  \\\n",
              "0    Gray  None reported  ...          31        1256               4   \n",
              "\n",
              "  engine_rank  transmission_rank ext_col_rank  int_col_rank  accident_rank  \\\n",
              "0         821                 28           91            14              2   \n",
              "\n",
              "   motor_rank  fuel_rank  \n",
              "0           1          3  \n",
              "\n",
              "[1 rows x 26 columns]"
            ]
          },
          "execution_count": 80,
          "metadata": {},
          "output_type": "execute_result"
        }
      ],
      "source": [
        "df.head(1)"
      ]
    },
    {
      "cell_type": "markdown",
      "metadata": {
        "id": "FUnFt_QVjMch"
      },
      "source": [
        "### Birinchi model"
      ]
    },
    {
      "cell_type": "code",
      "execution_count": 81,
      "metadata": {
        "colab": {
          "base_uri": "https://localhost:8080/"
        },
        "id": "-4TcAR3j2RiZ",
        "outputId": "94b07188-8a48-4ab9-b0da-3380c7b7438b"
      },
      "outputs": [
        {
          "name": "stdout",
          "output_type": "stream",
          "text": [
            "CV RMSE: 68040.11252712364\n",
            "RMSE: 69944.67979996078\n",
            "MAE: 19389.99585093425\n",
            "R2: 0.1094867627865036\n"
          ]
        }
      ],
      "source": [
        "columns = ['model_year',\n",
        "           'milage',\n",
        "           'hp',\n",
        "           'litr',\n",
        "           'Cylinder',\n",
        "           'brand_rank',\n",
        "           'model_rank',\n",
        "           'fuel_type_rank',\n",
        "           'engine_rank',\n",
        "           'transmission_rank',\n",
        "           'ext_col_rank',\n",
        "           'int_col_rank',\n",
        "           'accident_rank',\n",
        "           'motor_rank',\n",
        "           'fuel_rank'\n",
        "           ]\n",
        "\n",
        "X = df[columns]\n",
        "y = df['price']\n",
        "\n",
        "X_train, X_test, y_train, y_test = train_test_split(X, y, test_size=0.37, random_state=125)\n",
        "\n",
        "model = LinearRegression()\n",
        "\n",
        "cv = KFold(n_splits=5, shuffle=True, random_state=42)\n",
        "cv_rmse = np.sqrt(np.mean((-cross_val_score(model, X_train, y_train, cv=cv, scoring='neg_mean_squared_error'))))\n",
        "\n",
        "model.fit(X_train, y_train)\n",
        "\n",
        "y_pred = model.predict(X_test)\n",
        "\n",
        "rmse = mean_squared_error(y_test, y_pred, squared=False)\n",
        "mae = mean_absolute_error(y_test, y_pred)\n",
        "r2 = r2_score(y_test, y_pred)\n",
        "\n",
        "print(f'CV RMSE: {cv_rmse}')\n",
        "print(f'RMSE: {rmse}')\n",
        "print(f'MAE: {mae}')\n",
        "print(f'R2: {r2}')"
      ]
    },
    {
      "cell_type": "markdown",
      "metadata": {
        "id": "j4OUyInpjQb1"
      },
      "source": [
        "### PolynomialFeatures"
      ]
    },
    {
      "cell_type": "code",
      "execution_count": 82,
      "metadata": {
        "colab": {
          "base_uri": "https://localhost:8080/"
        },
        "id": "ZQ59wQje4fjc",
        "outputId": "cf1246d0-d740-4ecd-daf9-90a02f4a8bfa"
      },
      "outputs": [
        {
          "name": "stdout",
          "output_type": "stream",
          "text": [
            "CV RMSE: 67275.41304041893\n",
            "RMSE: 68974.20666354457\n",
            "MAE: 18491.288393316543\n",
            "R2: 0.13402683398847626\n"
          ]
        }
      ],
      "source": [
        "poly = PolynomialFeatures(degree=2, include_bias=False)\n",
        "X_poly = poly.fit_transform(X)\n",
        "\n",
        "\n",
        "X_train, X_test, y_train, y_test = train_test_split(X_poly, y, test_size=0.37, random_state=125)\n",
        "\n",
        "model = LinearRegression()\n",
        "\n",
        "cv = KFold(n_splits=5, shuffle=True, random_state=42)\n",
        "cv_rmse = np.sqrt(np.mean((-cross_val_score(model, X_train, y_train, cv=cv, scoring='neg_mean_squared_error'))))\n",
        "\n",
        "model.fit(X_train, y_train)\n",
        "\n",
        "y_pred = model.predict(X_test)\n",
        "\n",
        "rmse = mean_squared_error(y_test, y_pred, squared=False)\n",
        "mae = mean_absolute_error(y_test, y_pred)\n",
        "r2 = r2_score(y_test, y_pred)\n",
        "\n",
        "print(f'CV RMSE: {cv_rmse}')\n",
        "print(f'RMSE: {rmse}')\n",
        "print(f'MAE: {mae}')\n",
        "print(f'R2: {r2}')"
      ]
    },
    {
      "cell_type": "markdown",
      "metadata": {
        "id": "Jrn6bDEq49Ln"
      },
      "source": [
        "#### Outlierlarni tashlab kuramiz"
      ]
    },
    {
      "cell_type": "code",
      "execution_count": 83,
      "metadata": {
        "id": "aJSvBGxs5Ck8"
      },
      "outputs": [],
      "source": [
        "data = df[df['price'] <= df['price'].quantile(0.95)]"
      ]
    },
    {
      "cell_type": "code",
      "execution_count": 84,
      "metadata": {
        "id": "IqG6P2jt5POw"
      },
      "outputs": [],
      "source": [
        "X = data[columns]\n",
        "y = data['price']"
      ]
    },
    {
      "cell_type": "code",
      "execution_count": 85,
      "metadata": {
        "colab": {
          "base_uri": "https://localhost:8080/"
        },
        "id": "uhf-pFR_5KcO",
        "outputId": "757fc5b1-ab95-48ba-b997-0d07529cd529"
      },
      "outputs": [
        {
          "name": "stdout",
          "output_type": "stream",
          "text": [
            "CV RMSE: 12015.06195400318\n",
            "RMSE: 11961.465232950877\n",
            "MAE: 8395.475539719695\n",
            "R2: 0.6362014296164731\n"
          ]
        }
      ],
      "source": [
        "poly = PolynomialFeatures(degree=2, include_bias=False)\n",
        "X_poly = poly.fit_transform(X)\n",
        "\n",
        "\n",
        "X_train, X_test, y_train, y_test = train_test_split(X_poly, y, test_size=0.37, random_state=125)\n",
        "\n",
        "model = LinearRegression()\n",
        "\n",
        "cv = KFold(n_splits=5, shuffle=True, random_state=42)\n",
        "cv_rmse = np.sqrt(np.mean((-cross_val_score(model, X_train, y_train, cv=cv, scoring='neg_mean_squared_error'))))\n",
        "\n",
        "model.fit(X_train, y_train)\n",
        "\n",
        "y_pred = model.predict(X_test)\n",
        "\n",
        "rmse = mean_squared_error(y_test, y_pred, squared=False)\n",
        "mae = mean_absolute_error(y_test, y_pred)\n",
        "r2 = r2_score(y_test, y_pred)\n",
        "\n",
        "print(f'CV RMSE: {cv_rmse}')\n",
        "print(f'RMSE: {rmse}')\n",
        "print(f'MAE: {mae}')\n",
        "print(f'R2: {r2}')"
      ]
    },
    {
      "cell_type": "code",
      "execution_count": 86,
      "metadata": {
        "colab": {
          "base_uri": "https://localhost:8080/"
        },
        "id": "ZDQtdJ9z4out",
        "outputId": "f32d6f10-797a-4675-b91f-a68da119a707"
      },
      "outputs": [
        {
          "name": "stdout",
          "output_type": "stream",
          "text": [
            "Median Error Linear: 6964.218996915035\n",
            "Linear MAE: 9370.46208536432\n",
            "Linear RMSE: 12738.705142203507\n",
            "\n",
            "Median Error RANSAC: 7077.32961911452\n",
            "RANSAC MAE: 10211.673361690422\n",
            "RANSAC RMSE: 14439.528094264975\n",
            "\n",
            "Median Error Tail: 7931.911761107651\n",
            "Theil MAE: 35100.737420195015\n",
            "Theil RMSE: 96040.06898717741\n",
            "\n",
            "Median Error Huber: 6713.26793872091\n",
            "Huber MAE: 9544.07887195173\n",
            "Huber RMSE: 13304.671509204672\n"
          ]
        }
      ],
      "source": [
        "linear_model = LinearRegression()\n",
        "linear_model.fit(X, y)\n",
        "\n",
        "tail = TheilSenRegressor()\n",
        "tail.fit(X, y)\n",
        "\n",
        "huber = HuberRegressor()\n",
        "huber.fit(X, y)\n",
        "\n",
        "ransac = RANSACRegressor()\n",
        "ransac.fit(X, y)\n",
        "\n",
        "\n",
        "linear_rmse = np.sqrt(mean_squared_error(y, linear_model.predict(X)))\n",
        "tail_rmse = np.sqrt(mean_squared_error(y, tail.predict(X)))\n",
        "huber_rmse = np.sqrt(mean_squared_error(y, huber.predict(X)))\n",
        "ransac_rmse = np.sqrt(mean_squared_error(y, ransac.predict(X)))\n",
        "\n",
        "mae_linear = mean_absolute_error(y, linear_model.predict(X))\n",
        "mae_tail = mean_absolute_error(y, tail.predict(X))\n",
        "mae_huber = mean_absolute_error(y, huber.predict(X))\n",
        "mae_ransac = mean_absolute_error(y, ransac.predict(X))\n",
        "\n",
        "\n",
        "median_error = median_absolute_error(y, linear_model.predict(X))\n",
        "median_error_tail = median_absolute_error(y, tail.predict(X))\n",
        "median_error_huber = median_absolute_error(y, huber.predict(X))\n",
        "median_error_ransac = median_absolute_error(y, ransac.predict(X))\n",
        "\n",
        "print('Median Error Linear:', median_error)\n",
        "print('Linear MAE:', mae_linear)\n",
        "print('Linear RMSE:', linear_rmse)\n",
        "print()\n",
        "print('Median Error RANSAC:', median_error_ransac)\n",
        "print('RANSAC MAE:', mae_ransac)\n",
        "print('RANSAC RMSE:', ransac_rmse)\n",
        "print()\n",
        "print('Median Error Tail:', median_error_tail)\n",
        "print('Theil MAE:', mae_tail)\n",
        "print('Theil RMSE:', tail_rmse)\n",
        "print()\n",
        "print('Median Error Huber:', median_error_huber)\n",
        "print('Huber MAE:', mae_huber)\n",
        "print('Huber RMSE:', huber_rmse)"
      ]
    },
    {
      "cell_type": "markdown",
      "metadata": {
        "id": "nGDPoEzZ5aAT"
      },
      "source": [
        "#### PolynomialFeatures"
      ]
    },
    {
      "cell_type": "code",
      "execution_count": 87,
      "metadata": {
        "colab": {
          "base_uri": "https://localhost:8080/"
        },
        "id": "qNuwwaYi5QL8",
        "outputId": "73fc2628-5e0d-486d-d219-7a618b45d03f"
      },
      "outputs": [
        {
          "name": "stdout",
          "output_type": "stream",
          "text": [
            "Median Error Linear: 5758.5304752886295\n",
            "Linear MAE: 8405.499980135757\n",
            "Linear RMSE: 11940.658051753817\n",
            "\n",
            "Median Error RANSAC: 9921.241498947144\n",
            "RANSAC MAE: 2451888.991353092\n",
            "RANSAC RMSE: 10274701.78936126\n",
            "\n",
            "Median Error Tail: 6462.4796899975045\n",
            "Theil MAE: 3141065.3882204746\n",
            "Theil RMSE: 13182801.715474585\n",
            "\n",
            "Median Error Huber: 6217.725628812401\n",
            "Huber MAE: 9034.030466752994\n",
            "Huber RMSE: 12729.144289053753\n"
          ]
        }
      ],
      "source": [
        "linear_model = LinearRegression()\n",
        "linear_model.fit(X_poly, y)\n",
        "\n",
        "tail = TheilSenRegressor()\n",
        "tail.fit(X_poly, y)\n",
        "\n",
        "huber = HuberRegressor()\n",
        "huber.fit(X_poly, y)\n",
        "\n",
        "ransac = RANSACRegressor()\n",
        "ransac.fit(X_poly, y)\n",
        "\n",
        "\n",
        "linear_rmse = np.sqrt(mean_squared_error(y, linear_model.predict(X_poly)))\n",
        "tail_rmse = np.sqrt(mean_squared_error(y, tail.predict(X_poly)))\n",
        "huber_rmse = np.sqrt(mean_squared_error(y, huber.predict(X_poly)))\n",
        "ransac_rmse = np.sqrt(mean_squared_error(y, ransac.predict(X_poly)))\n",
        "\n",
        "mae_linear = mean_absolute_error(y, linear_model.predict(X_poly))\n",
        "mae_tail = mean_absolute_error(y, tail.predict(X_poly))\n",
        "mae_huber = mean_absolute_error(y, huber.predict(X_poly))\n",
        "mae_ransac = mean_absolute_error(y, ransac.predict(X_poly))\n",
        "\n",
        "\n",
        "median_error = median_absolute_error(y, linear_model.predict(X_poly))\n",
        "median_error_tail = median_absolute_error(y, tail.predict(X_poly))\n",
        "median_error_huber = median_absolute_error(y, huber.predict(X_poly))\n",
        "median_error_ransac = median_absolute_error(y, ransac.predict(X_poly))\n",
        "\n",
        "print('Median Error Linear:', median_error)\n",
        "print('Linear MAE:', mae_linear)\n",
        "print('Linear RMSE:', linear_rmse)\n",
        "print()\n",
        "print('Median Error RANSAC:', median_error_ransac)\n",
        "print('RANSAC MAE:', mae_ransac)\n",
        "print('RANSAC RMSE:', ransac_rmse)\n",
        "print()\n",
        "print('Median Error Tail:', median_error_tail)\n",
        "print('Theil MAE:', mae_tail)\n",
        "print('Theil RMSE:', tail_rmse)\n",
        "print()\n",
        "print('Median Error Huber:', median_error_huber)\n",
        "print('Huber MAE:', mae_huber)\n",
        "print('Huber RMSE:', huber_rmse)"
      ]
    },
    {
      "cell_type": "markdown",
      "metadata": {
        "id": "vX6PgjoBF9Ok"
      },
      "source": [
        "#### RFECV orqaliy eng yaxshi parametrlarni aniqlab olamiz\n"
      ]
    },
    {
      "cell_type": "code",
      "execution_count": 88,
      "metadata": {
        "colab": {
          "base_uri": "https://localhost:8080/"
        },
        "id": "QDU9amjd50OI",
        "outputId": "a6e641fa-a6b9-47af-e9f2-1d313db0ab3f"
      },
      "outputs": [
        {
          "name": "stdout",
          "output_type": "stream",
          "text": [
            "Fitting estimator with 135 features.\n",
            "Fitting estimator with 134 features.\n",
            "Fitting estimator with 133 features.\n",
            "Fitting estimator with 132 features.\n",
            "Fitting estimator with 131 features.\n",
            "Fitting estimator with 130 features.\n",
            "Fitting estimator with 129 features.\n",
            "Fitting estimator with 128 features.\n",
            "Fitting estimator with 127 features.\n",
            "Fitting estimator with 126 features.\n",
            "Fitting estimator with 125 features.\n",
            "Fitting estimator with 124 features.\n",
            "Fitting estimator with 123 features.\n",
            "Fitting estimator with 122 features.\n",
            "Fitting estimator with 121 features.\n",
            "Fitting estimator with 120 features.\n",
            "Fitting estimator with 119 features.\n",
            "Fitting estimator with 118 features.\n",
            "Fitting estimator with 117 features.\n",
            "Fitting estimator with 116 features.\n",
            "Fitting estimator with 115 features.\n",
            "Fitting estimator with 114 features.\n",
            "Fitting estimator with 113 features.\n",
            "Fitting estimator with 112 features.\n",
            "Fitting estimator with 111 features.\n",
            "Fitting estimator with 110 features.\n",
            "Fitting estimator with 109 features.\n",
            "Fitting estimator with 108 features.\n",
            "Fitting estimator with 107 features.\n",
            "Fitting estimator with 106 features.\n",
            "Fitting estimator with 105 features.\n",
            "Fitting estimator with 104 features.\n",
            "Fitting estimator with 103 features.\n",
            "Fitting estimator with 102 features.\n",
            "Fitting estimator with 101 features.\n",
            "Fitting estimator with 100 features.\n",
            "Fitting estimator with 99 features.\n",
            "Fitting estimator with 98 features.\n",
            "Fitting estimator with 97 features.\n",
            "Fitting estimator with 96 features.\n",
            "Fitting estimator with 95 features.\n",
            "Fitting estimator with 94 features.\n",
            "Fitting estimator with 93 features.\n",
            "Fitting estimator with 92 features.\n",
            "Fitting estimator with 91 features.\n",
            "Fitting estimator with 90 features.\n",
            "Fitting estimator with 89 features.\n",
            "Fitting estimator with 88 features.\n",
            "Fitting estimator with 87 features.\n",
            "Fitting estimator with 86 features.\n",
            "Fitting estimator with 85 features.\n",
            "Fitting estimator with 84 features.\n",
            "Fitting estimator with 83 features.\n",
            "Fitting estimator with 82 features.\n",
            "Fitting estimator with 81 features.\n",
            "Fitting estimator with 80 features.\n",
            "Fitting estimator with 79 features.\n",
            "Fitting estimator with 78 features.\n",
            "Fitting estimator with 77 features.\n",
            "Fitting estimator with 76 features.\n",
            "Fitting estimator with 75 features.\n",
            "Fitting estimator with 74 features.\n",
            "Fitting estimator with 73 features.\n",
            "Fitting estimator with 72 features.\n",
            "Fitting estimator with 71 features.\n",
            "Fitting estimator with 70 features.\n",
            "Fitting estimator with 69 features.\n",
            "Fitting estimator with 68 features.\n",
            "Fitting estimator with 67 features.\n",
            "Fitting estimator with 66 features.\n",
            "Fitting estimator with 65 features.\n",
            "Fitting estimator with 64 features.\n",
            "Fitting estimator with 63 features.\n",
            "Fitting estimator with 62 features.\n",
            "Fitting estimator with 61 features.\n",
            "Fitting estimator with 60 features.\n",
            "Fitting estimator with 59 features.\n",
            "Fitting estimator with 58 features.\n",
            "Fitting estimator with 57 features.\n",
            "Fitting estimator with 56 features.\n",
            "Fitting estimator with 55 features.\n",
            "Fitting estimator with 54 features.\n",
            "Fitting estimator with 53 features.\n",
            "Fitting estimator with 52 features.\n",
            "Fitting estimator with 51 features.\n",
            "Fitting estimator with 50 features.\n",
            "Fitting estimator with 49 features.\n",
            "Fitting estimator with 48 features.\n",
            "Fitting estimator with 47 features.\n",
            "Fitting estimator with 46 features.\n",
            "Fitting estimator with 45 features.\n",
            "Fitting estimator with 44 features.\n",
            "Fitting estimator with 43 features.\n",
            "Fitting estimator with 42 features.\n",
            "Fitting estimator with 41 features.\n",
            "Fitting estimator with 40 features.\n",
            "Fitting estimator with 39 features.\n",
            "Fitting estimator with 38 features.\n",
            "Fitting estimator with 37 features.\n",
            "Fitting estimator with 36 features.\n",
            "Fitting estimator with 35 features.\n",
            "Fitting estimator with 34 features.\n",
            "Fitting estimator with 33 features.\n",
            "Fitting estimator with 32 features.\n",
            "Fitting estimator with 31 features.\n",
            "Fitting estimator with 30 features.\n",
            "Fitting estimator with 29 features.\n",
            "Fitting estimator with 28 features.\n",
            "Fitting estimator with 27 features.\n",
            "Fitting estimator with 26 features.\n",
            "Fitting estimator with 25 features.\n",
            "Fitting estimator with 24 features.\n",
            "Fitting estimator with 23 features.\n",
            "Fitting estimator with 22 features.\n",
            "Fitting estimator with 21 features.\n",
            "Fitting estimator with 20 features.\n",
            "Fitting estimator with 19 features.\n",
            "Fitting estimator with 18 features.\n",
            "Fitting estimator with 17 features.\n",
            "Fitting estimator with 16 features.\n",
            "Fitting estimator with 15 features.\n",
            "Fitting estimator with 14 features.\n",
            "Fitting estimator with 13 features.\n",
            "Fitting estimator with 12 features.\n",
            "Fitting estimator with 11 features.\n",
            "Fitting estimator with 10 features.\n",
            "Fitting estimator with 9 features.\n",
            "Fitting estimator with 8 features.\n",
            "Fitting estimator with 7 features.\n",
            "Fitting estimator with 6 features.\n",
            "Fitting estimator with 5 features.\n",
            "Fitting estimator with 4 features.\n",
            "Fitting estimator with 3 features.\n",
            "Fitting estimator with 2 features.\n",
            "Fitting estimator with 135 features.\n",
            "Fitting estimator with 134 features.\n",
            "Fitting estimator with 133 features.\n",
            "Fitting estimator with 132 features.\n",
            "Fitting estimator with 131 features.\n",
            "Fitting estimator with 130 features.\n",
            "Fitting estimator with 129 features.\n",
            "Fitting estimator with 128 features.\n",
            "Fitting estimator with 127 features.\n",
            "Fitting estimator with 126 features.\n",
            "Fitting estimator with 125 features.\n",
            "Fitting estimator with 124 features.\n",
            "Fitting estimator with 123 features.\n",
            "Fitting estimator with 122 features.\n",
            "Fitting estimator with 121 features.\n",
            "Fitting estimator with 120 features.\n",
            "Fitting estimator with 119 features.\n",
            "Fitting estimator with 118 features.\n",
            "Fitting estimator with 117 features.\n",
            "Fitting estimator with 116 features.\n",
            "Fitting estimator with 115 features.\n",
            "Fitting estimator with 114 features.\n",
            "Fitting estimator with 113 features.\n",
            "Fitting estimator with 112 features.\n",
            "Fitting estimator with 111 features.\n",
            "Fitting estimator with 110 features.\n",
            "Fitting estimator with 109 features.\n",
            "Fitting estimator with 108 features.\n",
            "Fitting estimator with 107 features.\n",
            "Fitting estimator with 106 features.\n",
            "Fitting estimator with 105 features.\n",
            "Fitting estimator with 104 features.\n",
            "Fitting estimator with 103 features.\n",
            "Fitting estimator with 102 features.\n",
            "Fitting estimator with 101 features.\n",
            "Fitting estimator with 100 features.\n",
            "Fitting estimator with 99 features.\n",
            "Fitting estimator with 98 features.\n",
            "Fitting estimator with 97 features.\n",
            "Fitting estimator with 96 features.\n",
            "Fitting estimator with 95 features.\n",
            "Fitting estimator with 94 features.\n",
            "Fitting estimator with 93 features.\n",
            "Fitting estimator with 92 features.\n",
            "Fitting estimator with 91 features.\n",
            "Fitting estimator with 90 features.\n",
            "Fitting estimator with 89 features.\n",
            "Fitting estimator with 88 features.\n",
            "Fitting estimator with 87 features.\n",
            "Fitting estimator with 86 features.\n",
            "Fitting estimator with 85 features.\n",
            "Fitting estimator with 84 features.\n",
            "Fitting estimator with 83 features.\n",
            "Fitting estimator with 82 features.\n",
            "Fitting estimator with 81 features.\n",
            "Fitting estimator with 80 features.\n",
            "Fitting estimator with 79 features.\n",
            "Fitting estimator with 78 features.\n",
            "Fitting estimator with 77 features.\n",
            "Fitting estimator with 76 features.\n",
            "Fitting estimator with 75 features.\n",
            "Fitting estimator with 74 features.\n",
            "Fitting estimator with 73 features.\n",
            "Fitting estimator with 72 features.\n",
            "Fitting estimator with 71 features.\n",
            "Fitting estimator with 70 features.\n",
            "Fitting estimator with 69 features.\n",
            "Fitting estimator with 68 features.\n",
            "Fitting estimator with 67 features.\n",
            "Fitting estimator with 66 features.\n",
            "Fitting estimator with 65 features.\n",
            "Fitting estimator with 64 features.\n",
            "Fitting estimator with 63 features.\n",
            "Fitting estimator with 62 features.\n",
            "Fitting estimator with 61 features.\n",
            "Fitting estimator with 60 features.\n",
            "Fitting estimator with 59 features.\n",
            "Fitting estimator with 58 features.\n",
            "Fitting estimator with 57 features.\n",
            "Fitting estimator with 56 features.\n",
            "Fitting estimator with 55 features.\n",
            "Fitting estimator with 54 features.\n",
            "Fitting estimator with 53 features.\n",
            "Fitting estimator with 52 features.\n",
            "Fitting estimator with 51 features.\n",
            "Fitting estimator with 50 features.\n",
            "Fitting estimator with 49 features.\n",
            "Fitting estimator with 48 features.\n",
            "Fitting estimator with 47 features.\n",
            "Fitting estimator with 46 features.\n",
            "Fitting estimator with 45 features.\n",
            "Fitting estimator with 44 features.\n",
            "Fitting estimator with 43 features.\n",
            "Fitting estimator with 42 features.\n",
            "Fitting estimator with 41 features.\n",
            "Fitting estimator with 40 features.\n",
            "Fitting estimator with 39 features.\n",
            "Fitting estimator with 38 features.\n",
            "Fitting estimator with 37 features.\n",
            "Fitting estimator with 36 features.\n",
            "Fitting estimator with 35 features.\n",
            "Fitting estimator with 34 features.\n",
            "Fitting estimator with 33 features.\n",
            "Fitting estimator with 32 features.\n",
            "Fitting estimator with 31 features.\n",
            "Fitting estimator with 30 features.\n",
            "Fitting estimator with 29 features.\n",
            "Fitting estimator with 28 features.\n",
            "Fitting estimator with 27 features.\n",
            "Fitting estimator with 26 features.\n",
            "Fitting estimator with 25 features.\n",
            "Fitting estimator with 24 features.\n",
            "Fitting estimator with 23 features.\n",
            "Fitting estimator with 22 features.\n",
            "Fitting estimator with 21 features.\n",
            "Fitting estimator with 20 features.\n",
            "Fitting estimator with 19 features.\n",
            "Fitting estimator with 18 features.\n",
            "Fitting estimator with 17 features.\n",
            "Fitting estimator with 16 features.\n",
            "Fitting estimator with 15 features.\n",
            "Fitting estimator with 14 features.\n",
            "Fitting estimator with 13 features.\n",
            "Fitting estimator with 12 features.\n",
            "Fitting estimator with 11 features.\n",
            "Fitting estimator with 10 features.\n",
            "Fitting estimator with 9 features.\n",
            "Fitting estimator with 8 features.\n",
            "Fitting estimator with 7 features.\n",
            "Fitting estimator with 6 features.\n",
            "Fitting estimator with 5 features.\n",
            "Fitting estimator with 4 features.\n",
            "Fitting estimator with 3 features.\n",
            "Fitting estimator with 2 features.\n",
            "Fitting estimator with 135 features.\n",
            "Fitting estimator with 134 features.\n",
            "Fitting estimator with 133 features.\n",
            "Fitting estimator with 132 features.\n",
            "Fitting estimator with 131 features.\n",
            "Fitting estimator with 130 features.\n",
            "Fitting estimator with 129 features.\n",
            "Fitting estimator with 128 features.\n",
            "Fitting estimator with 127 features.\n",
            "Fitting estimator with 126 features.\n",
            "Fitting estimator with 125 features.\n",
            "Fitting estimator with 124 features.\n",
            "Fitting estimator with 123 features.\n",
            "Fitting estimator with 122 features.\n",
            "Fitting estimator with 121 features.\n",
            "Fitting estimator with 120 features.\n",
            "Fitting estimator with 119 features.\n",
            "Fitting estimator with 118 features.\n",
            "Fitting estimator with 117 features.\n",
            "Fitting estimator with 116 features.\n",
            "Fitting estimator with 115 features.\n",
            "Fitting estimator with 114 features.\n",
            "Fitting estimator with 113 features.\n",
            "Fitting estimator with 112 features.\n",
            "Fitting estimator with 111 features.\n",
            "Fitting estimator with 110 features.\n",
            "Fitting estimator with 109 features.\n",
            "Fitting estimator with 108 features.\n",
            "Fitting estimator with 107 features.\n",
            "Fitting estimator with 106 features.\n",
            "Fitting estimator with 105 features.\n",
            "Fitting estimator with 104 features.\n",
            "Fitting estimator with 103 features.\n",
            "Fitting estimator with 102 features.\n",
            "Fitting estimator with 101 features.\n",
            "Fitting estimator with 100 features.\n",
            "Fitting estimator with 99 features.\n",
            "Fitting estimator with 98 features.\n",
            "Fitting estimator with 97 features.\n",
            "Fitting estimator with 96 features.\n",
            "Fitting estimator with 95 features.\n",
            "Fitting estimator with 94 features.\n",
            "Fitting estimator with 93 features.\n",
            "Fitting estimator with 92 features.\n",
            "Fitting estimator with 91 features.\n",
            "Fitting estimator with 90 features.\n",
            "Fitting estimator with 89 features.\n",
            "Fitting estimator with 88 features.\n",
            "Fitting estimator with 87 features.\n",
            "Fitting estimator with 86 features.\n",
            "Fitting estimator with 85 features.\n",
            "Fitting estimator with 84 features.\n",
            "Fitting estimator with 83 features.\n",
            "Fitting estimator with 82 features.\n",
            "Fitting estimator with 81 features.\n",
            "Fitting estimator with 80 features.\n",
            "Fitting estimator with 79 features.\n",
            "Fitting estimator with 78 features.\n",
            "Fitting estimator with 77 features.\n",
            "Fitting estimator with 76 features.\n",
            "Fitting estimator with 75 features.\n",
            "Fitting estimator with 74 features.\n",
            "Fitting estimator with 73 features.\n",
            "Fitting estimator with 72 features.\n",
            "Fitting estimator with 71 features.\n",
            "Fitting estimator with 70 features.\n",
            "Fitting estimator with 69 features.\n",
            "Fitting estimator with 68 features.\n",
            "Fitting estimator with 67 features.\n",
            "Fitting estimator with 66 features.\n",
            "Fitting estimator with 65 features.\n",
            "Fitting estimator with 64 features.\n",
            "Fitting estimator with 63 features.\n",
            "Fitting estimator with 62 features.\n",
            "Fitting estimator with 61 features.\n",
            "Fitting estimator with 60 features.\n",
            "Fitting estimator with 59 features.\n",
            "Fitting estimator with 58 features.\n",
            "Fitting estimator with 57 features.\n",
            "Fitting estimator with 56 features.\n",
            "Fitting estimator with 55 features.\n",
            "Fitting estimator with 54 features.\n",
            "Fitting estimator with 53 features.\n",
            "Fitting estimator with 52 features.\n",
            "Fitting estimator with 51 features.\n",
            "Fitting estimator with 50 features.\n",
            "Fitting estimator with 49 features.\n",
            "Fitting estimator with 48 features.\n",
            "Fitting estimator with 47 features.\n",
            "Fitting estimator with 46 features.\n",
            "Fitting estimator with 45 features.\n",
            "Fitting estimator with 44 features.\n",
            "Fitting estimator with 43 features.\n",
            "Fitting estimator with 42 features.\n",
            "Fitting estimator with 41 features.\n",
            "Fitting estimator with 40 features.\n",
            "Fitting estimator with 39 features.\n",
            "Fitting estimator with 38 features.\n",
            "Fitting estimator with 37 features.\n",
            "Fitting estimator with 36 features.\n",
            "Fitting estimator with 35 features.\n",
            "Fitting estimator with 34 features.\n",
            "Fitting estimator with 33 features.\n",
            "Fitting estimator with 32 features.\n",
            "Fitting estimator with 31 features.\n",
            "Fitting estimator with 30 features.\n",
            "Fitting estimator with 29 features.\n",
            "Fitting estimator with 28 features.\n",
            "Fitting estimator with 27 features.\n",
            "Fitting estimator with 26 features.\n",
            "Fitting estimator with 25 features.\n",
            "Fitting estimator with 24 features.\n",
            "Fitting estimator with 23 features.\n",
            "Fitting estimator with 22 features.\n",
            "Fitting estimator with 21 features.\n",
            "Fitting estimator with 20 features.\n",
            "Fitting estimator with 19 features.\n",
            "Fitting estimator with 18 features.\n",
            "Fitting estimator with 17 features.\n",
            "Fitting estimator with 16 features.\n",
            "Fitting estimator with 15 features.\n",
            "Fitting estimator with 14 features.\n",
            "Fitting estimator with 13 features.\n",
            "Fitting estimator with 12 features.\n",
            "Fitting estimator with 11 features.\n",
            "Fitting estimator with 10 features.\n",
            "Fitting estimator with 9 features.\n",
            "Fitting estimator with 8 features.\n",
            "Fitting estimator with 7 features.\n",
            "Fitting estimator with 6 features.\n",
            "Fitting estimator with 5 features.\n",
            "Fitting estimator with 4 features.\n",
            "Fitting estimator with 3 features.\n",
            "Fitting estimator with 2 features.\n",
            "Fitting estimator with 135 features.\n",
            "Fitting estimator with 134 features.\n",
            "Fitting estimator with 133 features.\n",
            "Fitting estimator with 132 features.\n",
            "Fitting estimator with 131 features.\n",
            "Fitting estimator with 130 features.\n",
            "Fitting estimator with 129 features.\n",
            "Fitting estimator with 128 features.\n",
            "Fitting estimator with 127 features.\n",
            "Fitting estimator with 126 features.\n",
            "Fitting estimator with 125 features.\n",
            "Fitting estimator with 124 features.\n",
            "Fitting estimator with 123 features.\n",
            "Fitting estimator with 122 features.\n",
            "Fitting estimator with 121 features.\n",
            "Fitting estimator with 120 features.\n",
            "Fitting estimator with 119 features.\n",
            "Fitting estimator with 118 features.\n",
            "Fitting estimator with 117 features.\n",
            "Fitting estimator with 116 features.\n",
            "Fitting estimator with 115 features.\n",
            "Fitting estimator with 114 features.\n",
            "Fitting estimator with 113 features.\n",
            "Fitting estimator with 112 features.\n",
            "Fitting estimator with 111 features.\n",
            "Fitting estimator with 110 features.\n",
            "Fitting estimator with 109 features.\n",
            "Fitting estimator with 108 features.\n",
            "Fitting estimator with 107 features.\n",
            "Fitting estimator with 106 features.\n",
            "Fitting estimator with 105 features.\n",
            "Fitting estimator with 104 features.\n",
            "Fitting estimator with 103 features.\n",
            "Fitting estimator with 102 features.\n",
            "Fitting estimator with 101 features.\n",
            "Fitting estimator with 100 features.\n",
            "Fitting estimator with 99 features.\n",
            "Fitting estimator with 98 features.\n",
            "Fitting estimator with 97 features.\n",
            "Fitting estimator with 96 features.\n",
            "Fitting estimator with 95 features.\n",
            "Fitting estimator with 94 features.\n",
            "Fitting estimator with 93 features.\n",
            "Fitting estimator with 92 features.\n",
            "Fitting estimator with 91 features.\n",
            "Fitting estimator with 90 features.\n",
            "Fitting estimator with 89 features.\n",
            "Fitting estimator with 88 features.\n",
            "Fitting estimator with 87 features.\n",
            "Fitting estimator with 86 features.\n",
            "Fitting estimator with 85 features.\n",
            "Fitting estimator with 84 features.\n",
            "Fitting estimator with 83 features.\n",
            "Fitting estimator with 82 features.\n",
            "Fitting estimator with 81 features.\n",
            "Fitting estimator with 80 features.\n",
            "Fitting estimator with 79 features.\n",
            "Fitting estimator with 78 features.\n",
            "Fitting estimator with 77 features.\n",
            "Fitting estimator with 76 features.\n",
            "Fitting estimator with 75 features.\n",
            "Fitting estimator with 74 features.\n",
            "Fitting estimator with 73 features.\n",
            "Fitting estimator with 72 features.\n",
            "Fitting estimator with 71 features.\n",
            "Fitting estimator with 70 features.\n",
            "Fitting estimator with 69 features.\n",
            "Fitting estimator with 68 features.\n",
            "Fitting estimator with 67 features.\n",
            "Fitting estimator with 66 features.\n",
            "Fitting estimator with 65 features.\n",
            "Fitting estimator with 64 features.\n",
            "Fitting estimator with 63 features.\n",
            "Fitting estimator with 62 features.\n",
            "Fitting estimator with 61 features.\n",
            "Fitting estimator with 60 features.\n",
            "Fitting estimator with 59 features.\n",
            "Fitting estimator with 58 features.\n",
            "Fitting estimator with 57 features.\n",
            "Fitting estimator with 56 features.\n",
            "Fitting estimator with 55 features.\n",
            "Fitting estimator with 54 features.\n",
            "Fitting estimator with 53 features.\n",
            "Fitting estimator with 52 features.\n",
            "Fitting estimator with 51 features.\n",
            "Fitting estimator with 50 features.\n",
            "Fitting estimator with 49 features.\n",
            "Fitting estimator with 48 features.\n",
            "Fitting estimator with 47 features.\n",
            "Fitting estimator with 46 features.\n",
            "Fitting estimator with 45 features.\n",
            "Fitting estimator with 44 features.\n",
            "Fitting estimator with 43 features.\n",
            "Fitting estimator with 42 features.\n",
            "Fitting estimator with 41 features.\n",
            "Fitting estimator with 40 features.\n",
            "Fitting estimator with 39 features.\n",
            "Fitting estimator with 38 features.\n",
            "Fitting estimator with 37 features.\n",
            "Fitting estimator with 36 features.\n",
            "Fitting estimator with 35 features.\n",
            "Fitting estimator with 34 features.\n",
            "Fitting estimator with 33 features.\n",
            "Fitting estimator with 32 features.\n",
            "Fitting estimator with 31 features.\n",
            "Fitting estimator with 30 features.\n",
            "Fitting estimator with 29 features.\n",
            "Fitting estimator with 28 features.\n",
            "Fitting estimator with 27 features.\n",
            "Fitting estimator with 26 features.\n",
            "Fitting estimator with 25 features.\n",
            "Fitting estimator with 24 features.\n",
            "Fitting estimator with 23 features.\n",
            "Fitting estimator with 22 features.\n",
            "Fitting estimator with 21 features.\n",
            "Fitting estimator with 20 features.\n",
            "Fitting estimator with 19 features.\n",
            "Fitting estimator with 18 features.\n",
            "Fitting estimator with 17 features.\n",
            "Fitting estimator with 16 features.\n",
            "Fitting estimator with 15 features.\n",
            "Fitting estimator with 14 features.\n",
            "Fitting estimator with 13 features.\n",
            "Fitting estimator with 12 features.\n",
            "Fitting estimator with 11 features.\n",
            "Fitting estimator with 10 features.\n",
            "Fitting estimator with 9 features.\n",
            "Fitting estimator with 8 features.\n",
            "Fitting estimator with 7 features.\n",
            "Fitting estimator with 6 features.\n",
            "Fitting estimator with 5 features.\n",
            "Fitting estimator with 4 features.\n",
            "Fitting estimator with 3 features.\n",
            "Fitting estimator with 2 features.\n",
            "Fitting estimator with 135 features.\n",
            "Fitting estimator with 134 features.\n",
            "Fitting estimator with 133 features.\n",
            "Fitting estimator with 132 features.\n",
            "Fitting estimator with 131 features.\n",
            "Fitting estimator with 130 features.\n",
            "Fitting estimator with 129 features.\n",
            "Fitting estimator with 128 features.\n",
            "Fitting estimator with 127 features.\n",
            "Fitting estimator with 126 features.\n",
            "Fitting estimator with 125 features.\n",
            "Fitting estimator with 124 features.\n",
            "Fitting estimator with 123 features.\n",
            "Fitting estimator with 122 features.\n",
            "Fitting estimator with 121 features.\n",
            "Fitting estimator with 120 features.\n",
            "Fitting estimator with 119 features.\n",
            "Fitting estimator with 118 features.\n",
            "Fitting estimator with 117 features.\n",
            "Fitting estimator with 116 features.\n",
            "Fitting estimator with 115 features.\n",
            "Fitting estimator with 114 features.\n",
            "Fitting estimator with 113 features.\n",
            "Fitting estimator with 112 features.\n",
            "Fitting estimator with 111 features.\n",
            "Fitting estimator with 110 features.\n",
            "Fitting estimator with 109 features.\n",
            "Fitting estimator with 108 features.\n",
            "Fitting estimator with 107 features.\n"
          ]
        },
        {
          "ename": "KeyboardInterrupt",
          "evalue": "",
          "output_type": "error",
          "traceback": [
            "\u001b[1;31m---------------------------------------------------------------------------\u001b[0m",
            "\u001b[1;31mKeyboardInterrupt\u001b[0m                         Traceback (most recent call last)",
            "Cell \u001b[1;32mIn[88], line 13\u001b[0m\n\u001b[0;32m      9\u001b[0m linear_model \u001b[38;5;241m=\u001b[39m LinearRegression()\n\u001b[0;32m     11\u001b[0m rfecv \u001b[38;5;241m=\u001b[39m RFECV(estimator\u001b[38;5;241m=\u001b[39mlinear_model, step\u001b[38;5;241m=\u001b[39m\u001b[38;5;241m1\u001b[39m, cv\u001b[38;5;241m=\u001b[39mcv, scoring\u001b[38;5;241m=\u001b[39m\u001b[38;5;124m'\u001b[39m\u001b[38;5;124mneg_mean_squared_error\u001b[39m\u001b[38;5;124m'\u001b[39m, verbose\u001b[38;5;241m=\u001b[39m\u001b[38;5;241m2\u001b[39m)\n\u001b[1;32m---> 13\u001b[0m \u001b[43mrfecv\u001b[49m\u001b[38;5;241;43m.\u001b[39;49m\u001b[43mfit\u001b[49m\u001b[43m(\u001b[49m\u001b[43mX_poly\u001b[49m\u001b[43m,\u001b[49m\u001b[43m \u001b[49m\u001b[43my\u001b[49m\u001b[43m)\u001b[49m\n\u001b[0;32m     14\u001b[0m optimal_num_features \u001b[38;5;241m=\u001b[39m rfecv\u001b[38;5;241m.\u001b[39mn_features_\n\u001b[0;32m     15\u001b[0m selected_features \u001b[38;5;241m=\u001b[39m X_poly\u001b[38;5;241m.\u001b[39mcolumns[rfecv\u001b[38;5;241m.\u001b[39msupport_]\n",
            "File \u001b[1;32mc:\\Users\\User\\AppData\\Local\\Programs\\Python\\Python312\\Lib\\site-packages\\sklearn\\base.py:1473\u001b[0m, in \u001b[0;36m_fit_context.<locals>.decorator.<locals>.wrapper\u001b[1;34m(estimator, *args, **kwargs)\u001b[0m\n\u001b[0;32m   1466\u001b[0m     estimator\u001b[38;5;241m.\u001b[39m_validate_params()\n\u001b[0;32m   1468\u001b[0m \u001b[38;5;28;01mwith\u001b[39;00m config_context(\n\u001b[0;32m   1469\u001b[0m     skip_parameter_validation\u001b[38;5;241m=\u001b[39m(\n\u001b[0;32m   1470\u001b[0m         prefer_skip_nested_validation \u001b[38;5;129;01mor\u001b[39;00m global_skip_validation\n\u001b[0;32m   1471\u001b[0m     )\n\u001b[0;32m   1472\u001b[0m ):\n\u001b[1;32m-> 1473\u001b[0m     \u001b[38;5;28;01mreturn\u001b[39;00m \u001b[43mfit_method\u001b[49m\u001b[43m(\u001b[49m\u001b[43mestimator\u001b[49m\u001b[43m,\u001b[49m\u001b[43m \u001b[49m\u001b[38;5;241;43m*\u001b[39;49m\u001b[43margs\u001b[49m\u001b[43m,\u001b[49m\u001b[43m \u001b[49m\u001b[38;5;241;43m*\u001b[39;49m\u001b[38;5;241;43m*\u001b[39;49m\u001b[43mkwargs\u001b[49m\u001b[43m)\u001b[49m\n",
            "File \u001b[1;32mc:\\Users\\User\\AppData\\Local\\Programs\\Python\\Python312\\Lib\\site-packages\\sklearn\\feature_selection\\_rfe.py:777\u001b[0m, in \u001b[0;36mRFECV.fit\u001b[1;34m(self, X, y, groups)\u001b[0m\n\u001b[0;32m    774\u001b[0m     parallel \u001b[38;5;241m=\u001b[39m Parallel(n_jobs\u001b[38;5;241m=\u001b[39m\u001b[38;5;28mself\u001b[39m\u001b[38;5;241m.\u001b[39mn_jobs)\n\u001b[0;32m    775\u001b[0m     func \u001b[38;5;241m=\u001b[39m delayed(_rfe_single_fit)\n\u001b[1;32m--> 777\u001b[0m scores_features \u001b[38;5;241m=\u001b[39m \u001b[43mparallel\u001b[49m\u001b[43m(\u001b[49m\n\u001b[0;32m    778\u001b[0m \u001b[43m    \u001b[49m\u001b[43mfunc\u001b[49m\u001b[43m(\u001b[49m\u001b[43mrfe\u001b[49m\u001b[43m,\u001b[49m\u001b[43m \u001b[49m\u001b[38;5;28;43mself\u001b[39;49m\u001b[38;5;241;43m.\u001b[39;49m\u001b[43mestimator\u001b[49m\u001b[43m,\u001b[49m\u001b[43m \u001b[49m\u001b[43mX\u001b[49m\u001b[43m,\u001b[49m\u001b[43m \u001b[49m\u001b[43my\u001b[49m\u001b[43m,\u001b[49m\u001b[43m \u001b[49m\u001b[43mtrain\u001b[49m\u001b[43m,\u001b[49m\u001b[43m \u001b[49m\u001b[43mtest\u001b[49m\u001b[43m,\u001b[49m\u001b[43m \u001b[49m\u001b[43mscorer\u001b[49m\u001b[43m)\u001b[49m\n\u001b[0;32m    779\u001b[0m \u001b[43m    \u001b[49m\u001b[38;5;28;43;01mfor\u001b[39;49;00m\u001b[43m \u001b[49m\u001b[43mtrain\u001b[49m\u001b[43m,\u001b[49m\u001b[43m \u001b[49m\u001b[43mtest\u001b[49m\u001b[43m \u001b[49m\u001b[38;5;129;43;01min\u001b[39;49;00m\u001b[43m \u001b[49m\u001b[43mcv\u001b[49m\u001b[38;5;241;43m.\u001b[39;49m\u001b[43msplit\u001b[49m\u001b[43m(\u001b[49m\u001b[43mX\u001b[49m\u001b[43m,\u001b[49m\u001b[43m \u001b[49m\u001b[43my\u001b[49m\u001b[43m,\u001b[49m\u001b[43m \u001b[49m\u001b[43mgroups\u001b[49m\u001b[43m)\u001b[49m\n\u001b[0;32m    780\u001b[0m \u001b[43m\u001b[49m\u001b[43m)\u001b[49m\n\u001b[0;32m    781\u001b[0m scores, step_n_features \u001b[38;5;241m=\u001b[39m \u001b[38;5;28mzip\u001b[39m(\u001b[38;5;241m*\u001b[39mscores_features)\n\u001b[0;32m    783\u001b[0m step_n_features_rev \u001b[38;5;241m=\u001b[39m np\u001b[38;5;241m.\u001b[39marray(step_n_features[\u001b[38;5;241m0\u001b[39m])[::\u001b[38;5;241m-\u001b[39m\u001b[38;5;241m1\u001b[39m]\n",
            "File \u001b[1;32mc:\\Users\\User\\AppData\\Local\\Programs\\Python\\Python312\\Lib\\site-packages\\sklearn\\feature_selection\\_rfe.py:778\u001b[0m, in \u001b[0;36m<genexpr>\u001b[1;34m(.0)\u001b[0m\n\u001b[0;32m    774\u001b[0m     parallel \u001b[38;5;241m=\u001b[39m Parallel(n_jobs\u001b[38;5;241m=\u001b[39m\u001b[38;5;28mself\u001b[39m\u001b[38;5;241m.\u001b[39mn_jobs)\n\u001b[0;32m    775\u001b[0m     func \u001b[38;5;241m=\u001b[39m delayed(_rfe_single_fit)\n\u001b[0;32m    777\u001b[0m scores_features \u001b[38;5;241m=\u001b[39m parallel(\n\u001b[1;32m--> 778\u001b[0m     \u001b[43mfunc\u001b[49m\u001b[43m(\u001b[49m\u001b[43mrfe\u001b[49m\u001b[43m,\u001b[49m\u001b[43m \u001b[49m\u001b[38;5;28;43mself\u001b[39;49m\u001b[38;5;241;43m.\u001b[39;49m\u001b[43mestimator\u001b[49m\u001b[43m,\u001b[49m\u001b[43m \u001b[49m\u001b[43mX\u001b[49m\u001b[43m,\u001b[49m\u001b[43m \u001b[49m\u001b[43my\u001b[49m\u001b[43m,\u001b[49m\u001b[43m \u001b[49m\u001b[43mtrain\u001b[49m\u001b[43m,\u001b[49m\u001b[43m \u001b[49m\u001b[43mtest\u001b[49m\u001b[43m,\u001b[49m\u001b[43m \u001b[49m\u001b[43mscorer\u001b[49m\u001b[43m)\u001b[49m\n\u001b[0;32m    779\u001b[0m     \u001b[38;5;28;01mfor\u001b[39;00m train, test \u001b[38;5;129;01min\u001b[39;00m cv\u001b[38;5;241m.\u001b[39msplit(X, y, groups)\n\u001b[0;32m    780\u001b[0m )\n\u001b[0;32m    781\u001b[0m scores, step_n_features \u001b[38;5;241m=\u001b[39m \u001b[38;5;28mzip\u001b[39m(\u001b[38;5;241m*\u001b[39mscores_features)\n\u001b[0;32m    783\u001b[0m step_n_features_rev \u001b[38;5;241m=\u001b[39m np\u001b[38;5;241m.\u001b[39marray(step_n_features[\u001b[38;5;241m0\u001b[39m])[::\u001b[38;5;241m-\u001b[39m\u001b[38;5;241m1\u001b[39m]\n",
            "File \u001b[1;32mc:\\Users\\User\\AppData\\Local\\Programs\\Python\\Python312\\Lib\\site-packages\\sklearn\\feature_selection\\_rfe.py:37\u001b[0m, in \u001b[0;36m_rfe_single_fit\u001b[1;34m(rfe, estimator, X, y, train, test, scorer)\u001b[0m\n\u001b[0;32m     34\u001b[0m X_train, y_train \u001b[38;5;241m=\u001b[39m _safe_split(estimator, X, y, train)\n\u001b[0;32m     35\u001b[0m X_test, y_test \u001b[38;5;241m=\u001b[39m _safe_split(estimator, X, y, test, train)\n\u001b[1;32m---> 37\u001b[0m \u001b[43mrfe\u001b[49m\u001b[38;5;241;43m.\u001b[39;49m\u001b[43m_fit\u001b[49m\u001b[43m(\u001b[49m\n\u001b[0;32m     38\u001b[0m \u001b[43m    \u001b[49m\u001b[43mX_train\u001b[49m\u001b[43m,\u001b[49m\n\u001b[0;32m     39\u001b[0m \u001b[43m    \u001b[49m\u001b[43my_train\u001b[49m\u001b[43m,\u001b[49m\n\u001b[0;32m     40\u001b[0m \u001b[43m    \u001b[49m\u001b[38;5;28;43;01mlambda\u001b[39;49;00m\u001b[43m \u001b[49m\u001b[43mestimator\u001b[49m\u001b[43m,\u001b[49m\u001b[43m \u001b[49m\u001b[43mfeatures\u001b[49m\u001b[43m:\u001b[49m\u001b[43m \u001b[49m\u001b[43m_score\u001b[49m\u001b[43m(\u001b[49m\n\u001b[0;32m     41\u001b[0m \u001b[43m        \u001b[49m\u001b[38;5;66;43;03m# TODO(SLEP6): pass score_params here\u001b[39;49;00m\n\u001b[0;32m     42\u001b[0m \u001b[43m        \u001b[49m\u001b[43mestimator\u001b[49m\u001b[43m,\u001b[49m\n\u001b[0;32m     43\u001b[0m \u001b[43m        \u001b[49m\u001b[43mX_test\u001b[49m\u001b[43m[\u001b[49m\u001b[43m:\u001b[49m\u001b[43m,\u001b[49m\u001b[43m \u001b[49m\u001b[43mfeatures\u001b[49m\u001b[43m]\u001b[49m\u001b[43m,\u001b[49m\n\u001b[0;32m     44\u001b[0m \u001b[43m        \u001b[49m\u001b[43my_test\u001b[49m\u001b[43m,\u001b[49m\n\u001b[0;32m     45\u001b[0m \u001b[43m        \u001b[49m\u001b[43mscorer\u001b[49m\u001b[43m,\u001b[49m\n\u001b[0;32m     46\u001b[0m \u001b[43m        \u001b[49m\u001b[43mscore_params\u001b[49m\u001b[38;5;241;43m=\u001b[39;49m\u001b[38;5;28;43;01mNone\u001b[39;49;00m\u001b[43m,\u001b[49m\n\u001b[0;32m     47\u001b[0m \u001b[43m    \u001b[49m\u001b[43m)\u001b[49m\u001b[43m,\u001b[49m\n\u001b[0;32m     48\u001b[0m \u001b[43m\u001b[49m\u001b[43m)\u001b[49m\n\u001b[0;32m     50\u001b[0m \u001b[38;5;28;01mreturn\u001b[39;00m rfe\u001b[38;5;241m.\u001b[39mstep_scores_, rfe\u001b[38;5;241m.\u001b[39mstep_n_features_\n",
            "File \u001b[1;32mc:\\Users\\User\\AppData\\Local\\Programs\\Python\\Python312\\Lib\\site-packages\\sklearn\\feature_selection\\_rfe.py:323\u001b[0m, in \u001b[0;36mRFE._fit\u001b[1;34m(self, X, y, step_score, **fit_params)\u001b[0m\n\u001b[0;32m    320\u001b[0m \u001b[38;5;28;01mif\u001b[39;00m \u001b[38;5;28mself\u001b[39m\u001b[38;5;241m.\u001b[39mverbose \u001b[38;5;241m>\u001b[39m \u001b[38;5;241m0\u001b[39m:\n\u001b[0;32m    321\u001b[0m     \u001b[38;5;28mprint\u001b[39m(\u001b[38;5;124m\"\u001b[39m\u001b[38;5;124mFitting estimator with \u001b[39m\u001b[38;5;132;01m%d\u001b[39;00m\u001b[38;5;124m features.\u001b[39m\u001b[38;5;124m\"\u001b[39m \u001b[38;5;241m%\u001b[39m np\u001b[38;5;241m.\u001b[39msum(support_))\n\u001b[1;32m--> 323\u001b[0m \u001b[43mestimator\u001b[49m\u001b[38;5;241;43m.\u001b[39;49m\u001b[43mfit\u001b[49m\u001b[43m(\u001b[49m\u001b[43mX\u001b[49m\u001b[43m[\u001b[49m\u001b[43m:\u001b[49m\u001b[43m,\u001b[49m\u001b[43m \u001b[49m\u001b[43mfeatures\u001b[49m\u001b[43m]\u001b[49m\u001b[43m,\u001b[49m\u001b[43m \u001b[49m\u001b[43my\u001b[49m\u001b[43m,\u001b[49m\u001b[43m \u001b[49m\u001b[38;5;241;43m*\u001b[39;49m\u001b[38;5;241;43m*\u001b[39;49m\u001b[43mfit_params\u001b[49m\u001b[43m)\u001b[49m\n\u001b[0;32m    325\u001b[0m \u001b[38;5;66;03m# Get importance and rank them\u001b[39;00m\n\u001b[0;32m    326\u001b[0m importances \u001b[38;5;241m=\u001b[39m _get_feature_importances(\n\u001b[0;32m    327\u001b[0m     estimator,\n\u001b[0;32m    328\u001b[0m     \u001b[38;5;28mself\u001b[39m\u001b[38;5;241m.\u001b[39mimportance_getter,\n\u001b[0;32m    329\u001b[0m     transform_func\u001b[38;5;241m=\u001b[39m\u001b[38;5;124m\"\u001b[39m\u001b[38;5;124msquare\u001b[39m\u001b[38;5;124m\"\u001b[39m,\n\u001b[0;32m    330\u001b[0m )\n",
            "File \u001b[1;32mc:\\Users\\User\\AppData\\Local\\Programs\\Python\\Python312\\Lib\\site-packages\\sklearn\\base.py:1473\u001b[0m, in \u001b[0;36m_fit_context.<locals>.decorator.<locals>.wrapper\u001b[1;34m(estimator, *args, **kwargs)\u001b[0m\n\u001b[0;32m   1466\u001b[0m     estimator\u001b[38;5;241m.\u001b[39m_validate_params()\n\u001b[0;32m   1468\u001b[0m \u001b[38;5;28;01mwith\u001b[39;00m config_context(\n\u001b[0;32m   1469\u001b[0m     skip_parameter_validation\u001b[38;5;241m=\u001b[39m(\n\u001b[0;32m   1470\u001b[0m         prefer_skip_nested_validation \u001b[38;5;129;01mor\u001b[39;00m global_skip_validation\n\u001b[0;32m   1471\u001b[0m     )\n\u001b[0;32m   1472\u001b[0m ):\n\u001b[1;32m-> 1473\u001b[0m     \u001b[38;5;28;01mreturn\u001b[39;00m \u001b[43mfit_method\u001b[49m\u001b[43m(\u001b[49m\u001b[43mestimator\u001b[49m\u001b[43m,\u001b[49m\u001b[43m \u001b[49m\u001b[38;5;241;43m*\u001b[39;49m\u001b[43margs\u001b[49m\u001b[43m,\u001b[49m\u001b[43m \u001b[49m\u001b[38;5;241;43m*\u001b[39;49m\u001b[38;5;241;43m*\u001b[39;49m\u001b[43mkwargs\u001b[49m\u001b[43m)\u001b[49m\n",
            "File \u001b[1;32mc:\\Users\\User\\AppData\\Local\\Programs\\Python\\Python312\\Lib\\site-packages\\sklearn\\linear_model\\_base.py:687\u001b[0m, in \u001b[0;36mLinearRegression.fit\u001b[1;34m(self, X, y, sample_weight)\u001b[0m\n\u001b[0;32m    685\u001b[0m         \u001b[38;5;28mself\u001b[39m\u001b[38;5;241m.\u001b[39mcoef_ \u001b[38;5;241m=\u001b[39m np\u001b[38;5;241m.\u001b[39mvstack([out[\u001b[38;5;241m0\u001b[39m] \u001b[38;5;28;01mfor\u001b[39;00m out \u001b[38;5;129;01min\u001b[39;00m outs])\n\u001b[0;32m    686\u001b[0m \u001b[38;5;28;01melse\u001b[39;00m:\n\u001b[1;32m--> 687\u001b[0m     \u001b[38;5;28mself\u001b[39m\u001b[38;5;241m.\u001b[39mcoef_, _, \u001b[38;5;28mself\u001b[39m\u001b[38;5;241m.\u001b[39mrank_, \u001b[38;5;28mself\u001b[39m\u001b[38;5;241m.\u001b[39msingular_ \u001b[38;5;241m=\u001b[39m \u001b[43mlinalg\u001b[49m\u001b[38;5;241;43m.\u001b[39;49m\u001b[43mlstsq\u001b[49m\u001b[43m(\u001b[49m\u001b[43mX\u001b[49m\u001b[43m,\u001b[49m\u001b[43m \u001b[49m\u001b[43my\u001b[49m\u001b[43m)\u001b[49m\n\u001b[0;32m    688\u001b[0m     \u001b[38;5;28mself\u001b[39m\u001b[38;5;241m.\u001b[39mcoef_ \u001b[38;5;241m=\u001b[39m \u001b[38;5;28mself\u001b[39m\u001b[38;5;241m.\u001b[39mcoef_\u001b[38;5;241m.\u001b[39mT\n\u001b[0;32m    690\u001b[0m \u001b[38;5;28;01mif\u001b[39;00m y\u001b[38;5;241m.\u001b[39mndim \u001b[38;5;241m==\u001b[39m \u001b[38;5;241m1\u001b[39m:\n",
            "File \u001b[1;32mc:\\Users\\User\\AppData\\Local\\Programs\\Python\\Python312\\Lib\\site-packages\\scipy\\linalg\\_basic.py:1252\u001b[0m, in \u001b[0;36mlstsq\u001b[1;34m(a, b, cond, overwrite_a, overwrite_b, check_finite, lapack_driver)\u001b[0m\n\u001b[0;32m   1141\u001b[0m \u001b[38;5;28;01mdef\u001b[39;00m \u001b[38;5;21mlstsq\u001b[39m(a, b, cond\u001b[38;5;241m=\u001b[39m\u001b[38;5;28;01mNone\u001b[39;00m, overwrite_a\u001b[38;5;241m=\u001b[39m\u001b[38;5;28;01mFalse\u001b[39;00m, overwrite_b\u001b[38;5;241m=\u001b[39m\u001b[38;5;28;01mFalse\u001b[39;00m,\n\u001b[0;32m   1142\u001b[0m           check_finite\u001b[38;5;241m=\u001b[39m\u001b[38;5;28;01mTrue\u001b[39;00m, lapack_driver\u001b[38;5;241m=\u001b[39m\u001b[38;5;28;01mNone\u001b[39;00m):\n\u001b[0;32m   1143\u001b[0m \u001b[38;5;250m    \u001b[39m\u001b[38;5;124;03m\"\"\"\u001b[39;00m\n\u001b[0;32m   1144\u001b[0m \u001b[38;5;124;03m    Compute least-squares solution to equation Ax = b.\u001b[39;00m\n\u001b[0;32m   1145\u001b[0m \n\u001b[1;32m   (...)\u001b[0m\n\u001b[0;32m   1250\u001b[0m \n\u001b[0;32m   1251\u001b[0m \u001b[38;5;124;03m    \"\"\"\u001b[39;00m\n\u001b[1;32m-> 1252\u001b[0m     a1 \u001b[38;5;241m=\u001b[39m \u001b[43m_asarray_validated\u001b[49m\u001b[43m(\u001b[49m\u001b[43ma\u001b[49m\u001b[43m,\u001b[49m\u001b[43m \u001b[49m\u001b[43mcheck_finite\u001b[49m\u001b[38;5;241;43m=\u001b[39;49m\u001b[43mcheck_finite\u001b[49m\u001b[43m)\u001b[49m\n\u001b[0;32m   1253\u001b[0m     b1 \u001b[38;5;241m=\u001b[39m _asarray_validated(b, check_finite\u001b[38;5;241m=\u001b[39mcheck_finite)\n\u001b[0;32m   1254\u001b[0m     \u001b[38;5;28;01mif\u001b[39;00m \u001b[38;5;28mlen\u001b[39m(a1\u001b[38;5;241m.\u001b[39mshape) \u001b[38;5;241m!=\u001b[39m \u001b[38;5;241m2\u001b[39m:\n",
            "File \u001b[1;32mc:\\Users\\User\\AppData\\Local\\Programs\\Python\\Python312\\Lib\\site-packages\\scipy\\_lib\\_util.py:321\u001b[0m, in \u001b[0;36m_asarray_validated\u001b[1;34m(a, check_finite, sparse_ok, objects_ok, mask_ok, as_inexact)\u001b[0m\n\u001b[0;32m    319\u001b[0m         \u001b[38;5;28;01mraise\u001b[39;00m \u001b[38;5;167;01mValueError\u001b[39;00m(\u001b[38;5;124m'\u001b[39m\u001b[38;5;124mmasked arrays are not supported\u001b[39m\u001b[38;5;124m'\u001b[39m)\n\u001b[0;32m    320\u001b[0m toarray \u001b[38;5;241m=\u001b[39m np\u001b[38;5;241m.\u001b[39masarray_chkfinite \u001b[38;5;28;01mif\u001b[39;00m check_finite \u001b[38;5;28;01melse\u001b[39;00m np\u001b[38;5;241m.\u001b[39masarray\n\u001b[1;32m--> 321\u001b[0m a \u001b[38;5;241m=\u001b[39m \u001b[43mtoarray\u001b[49m\u001b[43m(\u001b[49m\u001b[43ma\u001b[49m\u001b[43m)\u001b[49m\n\u001b[0;32m    322\u001b[0m \u001b[38;5;28;01mif\u001b[39;00m \u001b[38;5;129;01mnot\u001b[39;00m objects_ok:\n\u001b[0;32m    323\u001b[0m     \u001b[38;5;28;01mif\u001b[39;00m a\u001b[38;5;241m.\u001b[39mdtype \u001b[38;5;129;01mis\u001b[39;00m np\u001b[38;5;241m.\u001b[39mdtype(\u001b[38;5;124m'\u001b[39m\u001b[38;5;124mO\u001b[39m\u001b[38;5;124m'\u001b[39m):\n",
            "File \u001b[1;32mc:\\Users\\User\\AppData\\Local\\Programs\\Python\\Python312\\Lib\\site-packages\\numpy\\lib\\_function_base_impl.py:648\u001b[0m, in \u001b[0;36masarray_chkfinite\u001b[1;34m(a, dtype, order)\u001b[0m\n\u001b[0;32m    586\u001b[0m \u001b[38;5;250m\u001b[39m\u001b[38;5;124;03m\"\"\"Convert the input to an array, checking for NaNs or Infs.\u001b[39;00m\n\u001b[0;32m    587\u001b[0m \n\u001b[0;32m    588\u001b[0m \u001b[38;5;124;03mParameters\u001b[39;00m\n\u001b[1;32m   (...)\u001b[0m\n\u001b[0;32m    645\u001b[0m \n\u001b[0;32m    646\u001b[0m \u001b[38;5;124;03m\"\"\"\u001b[39;00m\n\u001b[0;32m    647\u001b[0m a \u001b[38;5;241m=\u001b[39m asarray(a, dtype\u001b[38;5;241m=\u001b[39mdtype, order\u001b[38;5;241m=\u001b[39morder)\n\u001b[1;32m--> 648\u001b[0m \u001b[38;5;28;01mif\u001b[39;00m a\u001b[38;5;241m.\u001b[39mdtype\u001b[38;5;241m.\u001b[39mchar \u001b[38;5;129;01min\u001b[39;00m typecodes[\u001b[38;5;124m'\u001b[39m\u001b[38;5;124mAllFloat\u001b[39m\u001b[38;5;124m'\u001b[39m] \u001b[38;5;129;01mand\u001b[39;00m \u001b[38;5;129;01mnot\u001b[39;00m \u001b[43mnp\u001b[49m\u001b[38;5;241;43m.\u001b[39;49m\u001b[43misfinite\u001b[49m\u001b[43m(\u001b[49m\u001b[43ma\u001b[49m\u001b[43m)\u001b[49m\u001b[38;5;241m.\u001b[39mall():\n\u001b[0;32m    649\u001b[0m     \u001b[38;5;28;01mraise\u001b[39;00m \u001b[38;5;167;01mValueError\u001b[39;00m(\n\u001b[0;32m    650\u001b[0m         \u001b[38;5;124m\"\u001b[39m\u001b[38;5;124marray must not contain infs or NaNs\u001b[39m\u001b[38;5;124m\"\u001b[39m)\n\u001b[0;32m    651\u001b[0m \u001b[38;5;28;01mreturn\u001b[39;00m a\n",
            "\u001b[1;31mKeyboardInterrupt\u001b[0m: "
          ]
        }
      ],
      "source": [
        "X = data[columns]\n",
        "y = data['price']\n",
        "poly = PolynomialFeatures(degree=2, include_bias=False)\n",
        "X_poly = pd.DataFrame(poly.fit_transform(X), columns=poly.get_feature_names_out(X.columns))\n",
        "\n",
        "\n",
        "cv = KFold(n_splits=6, shuffle=True, random_state=42)\n",
        "\n",
        "linear_model = LinearRegression()\n",
        "\n",
        "rfecv = RFECV(estimator=linear_model, step=1, cv=cv, scoring='neg_mean_squared_error', verbose=2)\n",
        "\n",
        "rfecv.fit(X_poly, y)\n",
        "optimal_num_features = rfecv.n_features_\n",
        "selected_features = X_poly.columns[rfecv.support_]\n",
        "\n",
        "print(\"Optimal number of features:\", optimal_num_features)\n",
        "print(\"Selected features:\", selected_features.tolist())"
      ]
    },
    {
      "cell_type": "markdown",
      "metadata": {
        "id": "fMgQuzvGFur5"
      },
      "source": [
        "#### 3 ta modelni 3 xil metrika blan snab kuramiz"
      ]
    },
    {
      "cell_type": "code",
      "execution_count": null,
      "metadata": {
        "colab": {
          "base_uri": "https://localhost:8080/"
        },
        "id": "p6SWxa3YEMho",
        "outputId": "b0447ae9-a66f-4ee3-c664-2ce44e5b26c5"
      },
      "outputs": [
        {
          "name": "stdout",
          "output_type": "stream",
          "text": [
            "Median Error Linear: 5758.6183851361275\n",
            "Linear MAE: 8405.499635176066\n",
            "Linear RMSE: 11940.658125018634\n",
            "\n",
            "Median Error RANSAC: 11610.303764402866\n",
            "RANSAC MAE: 261444.96447900686\n",
            "RANSAC RMSE: 1062357.6115595729\n",
            "\n",
            "Median Error Tail: 6458.87349051435\n",
            "Theil MAE: 3341337.54653622\n",
            "Theil RMSE: 13988185.990592198\n",
            "\n",
            "Median Error Huber: 6178.496940543995\n",
            "Huber MAE: 9032.010376761316\n",
            "Huber RMSE: 12771.829826063731\n"
          ]
        }
      ],
      "source": [
        "X_poly = pd.DataFrame(poly.fit_transform(X), columns=poly.get_feature_names_out(X.columns))\n",
        "X = X_poly[selected_features]\n",
        "y = data['price']\n",
        "\n",
        "linear_model = LinearRegression()\n",
        "linear_model.fit(X, y)\n",
        "\n",
        "tail = TheilSenRegressor()\n",
        "tail.fit(X, y)\n",
        "\n",
        "huber = HuberRegressor()\n",
        "huber.fit(X, y)\n",
        "\n",
        "ransac = RANSACRegressor()\n",
        "ransac.fit(X, y)\n",
        "\n",
        "\n",
        "linear_rmse = np.sqrt(mean_squared_error(y, linear_model.predict(X)))\n",
        "tail_rmse = np.sqrt(mean_squared_error(y, tail.predict(X)))\n",
        "huber_rmse = np.sqrt(mean_squared_error(y, huber.predict(X)))\n",
        "ransac_rmse = np.sqrt(mean_squared_error(y, ransac.predict(X)))\n",
        "\n",
        "mae_linear = mean_absolute_error(y, linear_model.predict(X))\n",
        "mae_tail = mean_absolute_error(y, tail.predict(X))\n",
        "mae_huber = mean_absolute_error(y, huber.predict(X))\n",
        "mae_ransac = mean_absolute_error(y, ransac.predict(X))\n",
        "\n",
        "\n",
        "median_error = median_absolute_error(y, linear_model.predict(X))\n",
        "median_error_tail = median_absolute_error(y, tail.predict(X))\n",
        "median_error_huber = median_absolute_error(y, huber.predict(X))\n",
        "median_error_ransac = median_absolute_error(y, ransac.predict(X))\n",
        "\n",
        "print('Median Error Linear:', median_error)\n",
        "print('Linear MAE:', mae_linear)\n",
        "print('Linear RMSE:', linear_rmse)\n",
        "print()\n",
        "print('Median Error RANSAC:', median_error_ransac)\n",
        "print('RANSAC MAE:', mae_ransac)\n",
        "print('RANSAC RMSE:', ransac_rmse)\n",
        "print()\n",
        "print('Median Error Tail:', median_error_tail)\n",
        "print('Theil MAE:', mae_tail)\n",
        "print('Theil RMSE:', tail_rmse)\n",
        "print()\n",
        "print('Median Error Huber:', median_error_huber)\n",
        "print('Huber MAE:', mae_huber)\n",
        "print('Huber RMSE:', huber_rmse)"
      ]
    }
  ],
  "metadata": {
    "colab": {
      "include_colab_link": true,
      "provenance": []
    },
    "kernelspec": {
      "display_name": "Python 3",
      "name": "python3"
    },
    "language_info": {
      "codemirror_mode": {
        "name": "ipython",
        "version": 3
      },
      "file_extension": ".py",
      "mimetype": "text/x-python",
      "name": "python",
      "nbconvert_exporter": "python",
      "pygments_lexer": "ipython3",
      "version": "3.12.3"
    }
  },
  "nbformat": 4,
  "nbformat_minor": 0
}
