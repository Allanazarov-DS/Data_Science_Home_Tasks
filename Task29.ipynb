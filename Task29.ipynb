{
 "cells": [
  {
   "cell_type": "code",
   "execution_count": 1,
   "metadata": {},
   "outputs": [],
   "source": [
    "import numpy as np\n",
    "import seaborn as sns\n",
    "import pandas as pd\n",
    "from sklearn.linear_model import LinearRegression, ElasticNet, Ridge, Lasso, RANSACRegressor, TheilSenRegressor, HuberRegressor\n",
    "from sklearn.metrics import mean_squared_error, mean_absolute_error, median_absolute_error, mean_absolute_percentage_error, r2_score\n",
    "from sklearn.model_selection import train_test_split\n",
    "from sklearn.ensemble import StackingRegressor\n",
    "from sklearn.pipeline import Pipeline\n",
    "import warnings\n",
    "warnings.filterwarnings('ignore')\n"
   ]
  },
  {
   "cell_type": "code",
   "execution_count": 2,
   "metadata": {},
   "outputs": [
    {
     "data": {
      "text/html": [
       "<div>\n",
       "<style scoped>\n",
       "    .dataframe tbody tr th:only-of-type {\n",
       "        vertical-align: middle;\n",
       "    }\n",
       "\n",
       "    .dataframe tbody tr th {\n",
       "        vertical-align: top;\n",
       "    }\n",
       "\n",
       "    .dataframe thead th {\n",
       "        text-align: right;\n",
       "    }\n",
       "</style>\n",
       "<table border=\"1\" class=\"dataframe\">\n",
       "  <thead>\n",
       "    <tr style=\"text-align: right;\">\n",
       "      <th></th>\n",
       "      <th>id</th>\n",
       "      <th>brand</th>\n",
       "      <th>model</th>\n",
       "      <th>model_year</th>\n",
       "      <th>milage</th>\n",
       "      <th>fuel_type</th>\n",
       "      <th>engine</th>\n",
       "      <th>transmission</th>\n",
       "      <th>ext_col</th>\n",
       "      <th>int_col</th>\n",
       "      <th>accident</th>\n",
       "      <th>clean_title</th>\n",
       "      <th>price</th>\n",
       "    </tr>\n",
       "  </thead>\n",
       "  <tbody>\n",
       "    <tr>\n",
       "      <th>0</th>\n",
       "      <td>0</td>\n",
       "      <td>Ford</td>\n",
       "      <td>F-150 Lariat</td>\n",
       "      <td>2018</td>\n",
       "      <td>74349</td>\n",
       "      <td>Gasoline</td>\n",
       "      <td>375.0HP 3.5L V6 Cylinder Engine Gasoline Fuel</td>\n",
       "      <td>10-Speed A/T</td>\n",
       "      <td>Blue</td>\n",
       "      <td>Gray</td>\n",
       "      <td>None reported</td>\n",
       "      <td>Yes</td>\n",
       "      <td>11000</td>\n",
       "    </tr>\n",
       "    <tr>\n",
       "      <th>1</th>\n",
       "      <td>1</td>\n",
       "      <td>BMW</td>\n",
       "      <td>335 i</td>\n",
       "      <td>2007</td>\n",
       "      <td>80000</td>\n",
       "      <td>Gasoline</td>\n",
       "      <td>300.0HP 3.0L Straight 6 Cylinder Engine Gasoli...</td>\n",
       "      <td>6-Speed M/T</td>\n",
       "      <td>Black</td>\n",
       "      <td>Black</td>\n",
       "      <td>None reported</td>\n",
       "      <td>Yes</td>\n",
       "      <td>8250</td>\n",
       "    </tr>\n",
       "    <tr>\n",
       "      <th>2</th>\n",
       "      <td>2</td>\n",
       "      <td>Jaguar</td>\n",
       "      <td>XF Luxury</td>\n",
       "      <td>2009</td>\n",
       "      <td>91491</td>\n",
       "      <td>Gasoline</td>\n",
       "      <td>300.0HP 4.2L 8 Cylinder Engine Gasoline Fuel</td>\n",
       "      <td>6-Speed A/T</td>\n",
       "      <td>Purple</td>\n",
       "      <td>Beige</td>\n",
       "      <td>None reported</td>\n",
       "      <td>Yes</td>\n",
       "      <td>15000</td>\n",
       "    </tr>\n",
       "    <tr>\n",
       "      <th>3</th>\n",
       "      <td>3</td>\n",
       "      <td>BMW</td>\n",
       "      <td>X7 xDrive40i</td>\n",
       "      <td>2022</td>\n",
       "      <td>2437</td>\n",
       "      <td>Hybrid</td>\n",
       "      <td>335.0HP 3.0L Straight 6 Cylinder Engine Gasoli...</td>\n",
       "      <td>Transmission w/Dual Shift Mode</td>\n",
       "      <td>Gray</td>\n",
       "      <td>Brown</td>\n",
       "      <td>None reported</td>\n",
       "      <td>Yes</td>\n",
       "      <td>63500</td>\n",
       "    </tr>\n",
       "    <tr>\n",
       "      <th>4</th>\n",
       "      <td>4</td>\n",
       "      <td>Pontiac</td>\n",
       "      <td>Firebird Base</td>\n",
       "      <td>2001</td>\n",
       "      <td>111000</td>\n",
       "      <td>Gasoline</td>\n",
       "      <td>200.0HP 3.8L V6 Cylinder Engine Gasoline Fuel</td>\n",
       "      <td>A/T</td>\n",
       "      <td>White</td>\n",
       "      <td>Black</td>\n",
       "      <td>None reported</td>\n",
       "      <td>Yes</td>\n",
       "      <td>7850</td>\n",
       "    </tr>\n",
       "  </tbody>\n",
       "</table>\n",
       "</div>"
      ],
      "text/plain": [
       "   id    brand          model  model_year  milage fuel_type  \\\n",
       "0   0     Ford   F-150 Lariat        2018   74349  Gasoline   \n",
       "1   1      BMW          335 i        2007   80000  Gasoline   \n",
       "2   2   Jaguar      XF Luxury        2009   91491  Gasoline   \n",
       "3   3      BMW   X7 xDrive40i        2022    2437    Hybrid   \n",
       "4   4  Pontiac  Firebird Base        2001  111000  Gasoline   \n",
       "\n",
       "                                              engine  \\\n",
       "0      375.0HP 3.5L V6 Cylinder Engine Gasoline Fuel   \n",
       "1  300.0HP 3.0L Straight 6 Cylinder Engine Gasoli...   \n",
       "2       300.0HP 4.2L 8 Cylinder Engine Gasoline Fuel   \n",
       "3  335.0HP 3.0L Straight 6 Cylinder Engine Gasoli...   \n",
       "4      200.0HP 3.8L V6 Cylinder Engine Gasoline Fuel   \n",
       "\n",
       "                     transmission ext_col int_col       accident clean_title  \\\n",
       "0                    10-Speed A/T    Blue    Gray  None reported         Yes   \n",
       "1                     6-Speed M/T   Black   Black  None reported         Yes   \n",
       "2                     6-Speed A/T  Purple   Beige  None reported         Yes   \n",
       "3  Transmission w/Dual Shift Mode    Gray   Brown  None reported         Yes   \n",
       "4                             A/T   White   Black  None reported         Yes   \n",
       "\n",
       "   price  \n",
       "0  11000  \n",
       "1   8250  \n",
       "2  15000  \n",
       "3  63500  \n",
       "4   7850  "
      ]
     },
     "execution_count": 2,
     "metadata": {},
     "output_type": "execute_result"
    }
   ],
   "source": [
    "df = pd.read_csv(\"car_prices.csv\")\n",
    "df.head()"
   ]
  },
  {
   "cell_type": "code",
   "execution_count": 3,
   "metadata": {},
   "outputs": [],
   "source": [
    "df = df[~((df[\"price\"] < df[\"price\"].quantile(0.05)) | (df[\"price\"] > df[\"price\"].quantile(0.95)))]"
   ]
  },
  {
   "cell_type": "code",
   "execution_count": 4,
   "metadata": {},
   "outputs": [],
   "source": [
    "X = df[[\"milage\"]]\n",
    "y = df['price'].values"
   ]
  },
  {
   "cell_type": "code",
   "execution_count": 5,
   "metadata": {},
   "outputs": [],
   "source": [
    "X_train, X_test, y_train, y_test = train_test_split(X, y, test_size=0.2, random_state=42)"
   ]
  },
  {
   "cell_type": "code",
   "execution_count": 6,
   "metadata": {},
   "outputs": [
    {
     "name": "stdout",
     "output_type": "stream",
     "text": [
      "15589.430906044827\n",
      "11911.61973697553\n",
      "9657.122422216224\n",
      "0.6676123484732954\n"
     ]
    }
   ],
   "source": [
    "linear = LinearRegression()\n",
    "\n",
    "linear.fit(X_train, y_train)\n",
    "line_pred = linear.predict(X_test)\n",
    "\n",
    "print(mean_squared_error(line_pred, y_test, squared=False))\n",
    "print(mean_absolute_error(line_pred, y_test))\n",
    "print(median_absolute_error(line_pred, y_test))\n",
    "print(mean_absolute_percentage_error(line_pred, y_test))"
   ]
  },
  {
   "cell_type": "code",
   "execution_count": 7,
   "metadata": {},
   "outputs": [
    {
     "name": "stdout",
     "output_type": "stream",
     "text": [
      "15589.430906044827\n",
      "11911.61973697553\n",
      "9657.122422216049\n"
     ]
    }
   ],
   "source": [
    "rid = Ridge()\n",
    "\n",
    "rid.fit(X_train, y_train)\n",
    "rid_pred = rid.predict(X_test)\n",
    "\n",
    "print(mean_squared_error(rid_pred, y_test, squared=False))\n",
    "print(mean_absolute_error(rid_pred, y_test))\n",
    "print(median_absolute_error(rid_pred, y_test))"
   ]
  },
  {
   "cell_type": "code",
   "execution_count": 8,
   "metadata": {},
   "outputs": [
    {
     "name": "stdout",
     "output_type": "stream",
     "text": [
      "15589.430906129357\n",
      "11911.61973734881\n",
      "9657.122381744724\n",
      "0.6676123265168902\n"
     ]
    }
   ],
   "source": [
    "las = Lasso()\n",
    "\n",
    "las.fit(X_train, y_train)\n",
    "las_pred = las.predict(X_test)\n",
    "\n",
    "print(mean_squared_error(las_pred, y_test, squared=False))\n",
    "print(mean_absolute_error(las_pred, y_test))\n",
    "print(median_absolute_error(las_pred, y_test))\n",
    "print(mean_absolute_percentage_error(las_pred, y_test))"
   ]
  },
  {
   "cell_type": "code",
   "execution_count": 9,
   "metadata": {},
   "outputs": [
    {
     "name": "stdout",
     "output_type": "stream",
     "text": [
      "31790.772783852783\n",
      "24485.818631238046\n",
      "18848.96852024395\n",
      "10.991192093482624\n"
     ]
    }
   ],
   "source": [
    "hub = HuberRegressor()\n",
    "\n",
    "hub.fit(X_train, y_train)\n",
    "hub_pred = hub.predict(X_test)\n",
    "\n",
    "print(mean_squared_error(hub_pred, y_test, squared=False))\n",
    "print(mean_absolute_error(hub_pred, y_test))\n",
    "print(median_absolute_error(hub_pred, y_test))\n",
    "print(mean_absolute_percentage_error(hub_pred, y_test))"
   ]
  },
  {
   "cell_type": "code",
   "execution_count": 10,
   "metadata": {},
   "outputs": [
    {
     "name": "stdout",
     "output_type": "stream",
     "text": [
      "15589.430906097603\n",
      "11911.619737208586\n",
      "9657.12239694795\n",
      "0.6676123347648663\n"
     ]
    }
   ],
   "source": [
    "elastic = ElasticNet()\n",
    "\n",
    "elastic.fit(X_train, y_train)\n",
    "elastic_pred = elastic.predict(X_test)\n",
    "\n",
    "print(mean_squared_error(elastic_pred, y_test, squared=False))\n",
    "print(mean_absolute_error(elastic_pred, y_test))\n",
    "print(median_absolute_error(elastic_pred, y_test))\n",
    "print(mean_absolute_percentage_error(elastic_pred, y_test))"
   ]
  },
  {
   "cell_type": "code",
   "execution_count": 11,
   "metadata": {},
   "outputs": [
    {
     "name": "stdout",
     "output_type": "stream",
     "text": [
      "16621.58360236339\n",
      "12056.151739762092\n",
      "8573.924609170219\n",
      "1.75022628352549\n"
     ]
    }
   ],
   "source": [
    "theil = TheilSenRegressor()\n",
    "\n",
    "theil.fit(X_train, y_train)\n",
    "theil_pred = theil.predict(X_test)\n",
    "\n",
    "print(mean_squared_error(theil_pred, y_test, squared=False))\n",
    "print(mean_absolute_error(theil_pred, y_test))\n",
    "print(median_absolute_error(theil_pred, y_test))\n",
    "print(mean_absolute_percentage_error(theil_pred, y_test))"
   ]
  },
  {
   "cell_type": "code",
   "execution_count": 12,
   "metadata": {},
   "outputs": [
    {
     "name": "stdout",
     "output_type": "stream",
     "text": [
      "17228.151207052924\n",
      "12209.315460714794\n",
      "8088.088631740477\n",
      "1.085114176051718\n"
     ]
    }
   ],
   "source": [
    "rancar = RANSACRegressor()\n",
    "\n",
    "rancar.fit(X_train, y_train)\n",
    "rancar_pred = rancar.predict(X_test)\n",
    "\n",
    "print(mean_squared_error(rancar_pred, y_test, squared=False))\n",
    "print(mean_absolute_error(rancar_pred, y_test))\n",
    "print(median_absolute_error(rancar_pred, y_test))\n",
    "print(mean_absolute_percentage_error(rancar_pred, y_test))"
   ]
  },
  {
   "cell_type": "code",
   "execution_count": 13,
   "metadata": {},
   "outputs": [
    {
     "data": {
      "text/html": [
       "<div>\n",
       "<style scoped>\n",
       "    .dataframe tbody tr th:only-of-type {\n",
       "        vertical-align: middle;\n",
       "    }\n",
       "\n",
       "    .dataframe tbody tr th {\n",
       "        vertical-align: top;\n",
       "    }\n",
       "\n",
       "    .dataframe thead th {\n",
       "        text-align: right;\n",
       "    }\n",
       "</style>\n",
       "<table border=\"1\" class=\"dataframe\">\n",
       "  <thead>\n",
       "    <tr style=\"text-align: right;\">\n",
       "      <th></th>\n",
       "      <th>linear</th>\n",
       "      <th>huber</th>\n",
       "      <th>lasso</th>\n",
       "      <th>RANSAC</th>\n",
       "      <th>ridge</th>\n",
       "      <th>theil</th>\n",
       "      <th>elastic</th>\n",
       "    </tr>\n",
       "  </thead>\n",
       "  <tbody>\n",
       "    <tr>\n",
       "      <th>0</th>\n",
       "      <td>33170.941779</td>\n",
       "      <td>13257.254199</td>\n",
       "      <td>33170.941777</td>\n",
       "      <td>25907.745218</td>\n",
       "      <td>33170.941779</td>\n",
       "      <td>28164.779343</td>\n",
       "      <td>33170.941778</td>\n",
       "    </tr>\n",
       "    <tr>\n",
       "      <th>1</th>\n",
       "      <td>36777.035786</td>\n",
       "      <td>10388.146950</td>\n",
       "      <td>36777.035778</td>\n",
       "      <td>29416.669307</td>\n",
       "      <td>36777.035786</td>\n",
       "      <td>32455.400311</td>\n",
       "      <td>36777.035781</td>\n",
       "    </tr>\n",
       "    <tr>\n",
       "      <th>2</th>\n",
       "      <td>3078.709032</td>\n",
       "      <td>37199.459523</td>\n",
       "      <td>3078.709083</td>\n",
       "      <td>-3373.621321</td>\n",
       "      <td>3078.709032</td>\n",
       "      <td>-7639.712874</td>\n",
       "      <td>3078.709063</td>\n",
       "    </tr>\n",
       "    <tr>\n",
       "      <th>3</th>\n",
       "      <td>33668.334056</td>\n",
       "      <td>12861.515268</td>\n",
       "      <td>33668.334053</td>\n",
       "      <td>26391.734747</td>\n",
       "      <td>33668.334056</td>\n",
       "      <td>28756.589131</td>\n",
       "      <td>33668.334054</td>\n",
       "    </tr>\n",
       "    <tr>\n",
       "      <th>4</th>\n",
       "      <td>27403.927026</td>\n",
       "      <td>17845.649234</td>\n",
       "      <td>27403.927034</td>\n",
       "      <td>20296.128617</td>\n",
       "      <td>27403.927026</td>\n",
       "      <td>21303.040747</td>\n",
       "      <td>27403.927031</td>\n",
       "    </tr>\n",
       "  </tbody>\n",
       "</table>\n",
       "</div>"
      ],
      "text/plain": [
       "         linear         huber         lasso        RANSAC         ridge  \\\n",
       "0  33170.941779  13257.254199  33170.941777  25907.745218  33170.941779   \n",
       "1  36777.035786  10388.146950  36777.035778  29416.669307  36777.035786   \n",
       "2   3078.709032  37199.459523   3078.709083  -3373.621321   3078.709032   \n",
       "3  33668.334056  12861.515268  33668.334053  26391.734747  33668.334056   \n",
       "4  27403.927026  17845.649234  27403.927034  20296.128617  27403.927026   \n",
       "\n",
       "          theil       elastic  \n",
       "0  28164.779343  33170.941778  \n",
       "1  32455.400311  36777.035781  \n",
       "2  -7639.712874   3078.709063  \n",
       "3  28756.589131  33668.334054  \n",
       "4  21303.040747  27403.927031  "
      ]
     },
     "execution_count": 13,
     "metadata": {},
     "output_type": "execute_result"
    }
   ],
   "source": [
    "pred = [line_pred, hub_pred, las_pred, rancar_pred, rid_pred, theil_pred, elastic_pred]\n",
    "pred_df = pd.DataFrame(np.column_stack(pred), columns=[\"linear\", \"huber\", \"lasso\", \"RANSAC\", \"ridge\", \"theil\", \"elastic\"])\n",
    "\n",
    "pred_df.head()"
   ]
  },
  {
   "cell_type": "code",
   "execution_count": 14,
   "metadata": {},
   "outputs": [
    {
     "data": {
      "text/html": [
       "<div>\n",
       "<style scoped>\n",
       "    .dataframe tbody tr th:only-of-type {\n",
       "        vertical-align: middle;\n",
       "    }\n",
       "\n",
       "    .dataframe tbody tr th {\n",
       "        vertical-align: top;\n",
       "    }\n",
       "\n",
       "    .dataframe thead th {\n",
       "        text-align: right;\n",
       "    }\n",
       "</style>\n",
       "<table border=\"1\" class=\"dataframe\">\n",
       "  <thead>\n",
       "    <tr style=\"text-align: right;\">\n",
       "      <th></th>\n",
       "      <th>linear</th>\n",
       "      <th>huber</th>\n",
       "      <th>lasso</th>\n",
       "      <th>RANSAC</th>\n",
       "      <th>ridge</th>\n",
       "      <th>theil</th>\n",
       "      <th>elastic</th>\n",
       "      <th>mean</th>\n",
       "    </tr>\n",
       "  </thead>\n",
       "  <tbody>\n",
       "    <tr>\n",
       "      <th>0</th>\n",
       "      <td>33170.941779</td>\n",
       "      <td>13257.254199</td>\n",
       "      <td>33170.941777</td>\n",
       "      <td>25907.745218</td>\n",
       "      <td>33170.941779</td>\n",
       "      <td>28164.779343</td>\n",
       "      <td>33170.941778</td>\n",
       "      <td>28573.363696</td>\n",
       "    </tr>\n",
       "    <tr>\n",
       "      <th>1</th>\n",
       "      <td>36777.035786</td>\n",
       "      <td>10388.146950</td>\n",
       "      <td>36777.035778</td>\n",
       "      <td>29416.669307</td>\n",
       "      <td>36777.035786</td>\n",
       "      <td>32455.400311</td>\n",
       "      <td>36777.035781</td>\n",
       "      <td>31338.337100</td>\n",
       "    </tr>\n",
       "    <tr>\n",
       "      <th>2</th>\n",
       "      <td>3078.709032</td>\n",
       "      <td>37199.459523</td>\n",
       "      <td>3078.709083</td>\n",
       "      <td>-3373.621321</td>\n",
       "      <td>3078.709032</td>\n",
       "      <td>-7639.712874</td>\n",
       "      <td>3078.709063</td>\n",
       "      <td>5500.137362</td>\n",
       "    </tr>\n",
       "    <tr>\n",
       "      <th>3</th>\n",
       "      <td>33668.334056</td>\n",
       "      <td>12861.515268</td>\n",
       "      <td>33668.334053</td>\n",
       "      <td>26391.734747</td>\n",
       "      <td>33668.334056</td>\n",
       "      <td>28756.589131</td>\n",
       "      <td>33668.334054</td>\n",
       "      <td>28954.739338</td>\n",
       "    </tr>\n",
       "    <tr>\n",
       "      <th>4</th>\n",
       "      <td>27403.927026</td>\n",
       "      <td>17845.649234</td>\n",
       "      <td>27403.927034</td>\n",
       "      <td>20296.128617</td>\n",
       "      <td>27403.927026</td>\n",
       "      <td>21303.040747</td>\n",
       "      <td>27403.927031</td>\n",
       "      <td>24151.503816</td>\n",
       "    </tr>\n",
       "  </tbody>\n",
       "</table>\n",
       "</div>"
      ],
      "text/plain": [
       "         linear         huber         lasso        RANSAC         ridge  \\\n",
       "0  33170.941779  13257.254199  33170.941777  25907.745218  33170.941779   \n",
       "1  36777.035786  10388.146950  36777.035778  29416.669307  36777.035786   \n",
       "2   3078.709032  37199.459523   3078.709083  -3373.621321   3078.709032   \n",
       "3  33668.334056  12861.515268  33668.334053  26391.734747  33668.334056   \n",
       "4  27403.927026  17845.649234  27403.927034  20296.128617  27403.927026   \n",
       "\n",
       "          theil       elastic          mean  \n",
       "0  28164.779343  33170.941778  28573.363696  \n",
       "1  32455.400311  36777.035781  31338.337100  \n",
       "2  -7639.712874   3078.709063   5500.137362  \n",
       "3  28756.589131  33668.334054  28954.739338  \n",
       "4  21303.040747  27403.927031  24151.503816  "
      ]
     },
     "execution_count": 14,
     "metadata": {},
     "output_type": "execute_result"
    }
   ],
   "source": [
    "pred_df['mean'] = pred_df.mean(axis=1)\n",
    "pred_df.head()"
   ]
  },
  {
   "cell_type": "code",
   "execution_count": 15,
   "metadata": {},
   "outputs": [
    {
     "name": "stdout",
     "output_type": "stream",
     "text": [
      "16441.331041432604\n",
      "11826.798629412668\n",
      "8283.833449970882\n",
      "0.6011009506126183\n"
     ]
    }
   ],
   "source": [
    "print(mean_squared_error(pred_df['mean'], y_test, squared=False))\n",
    "print(mean_absolute_error(pred_df['mean'], y_test))\n",
    "print(median_absolute_error(pred_df['mean'], y_test))\n",
    "print(mean_absolute_percentage_error(pred_df['mean'], y_test ))"
   ]
  },
  {
   "cell_type": "code",
   "execution_count": 16,
   "metadata": {},
   "outputs": [],
   "source": [
    "stack = StackingRegressor(estimators=[\n",
    "    (\"TheilSen\", TheilSenRegressor()),\n",
    "    (\"Linear\", LinearRegression()),\n",
    "    (\"Ridge\", Ridge()),\n",
    "    (\"Lasso\", Lasso()),\n",
    "    (\"Elastic\", ElasticNet()),\n",
    "    (\"Huber\", HuberRegressor()),\n",
    "    (\"Ransacr\", RANSACRegressor())\n",
    "])\n",
    "\n",
    "stack.fit(X_train, y_train)\n",
    "stck_pred =  stack.predict(X_test)"
   ]
  },
  {
   "cell_type": "code",
   "execution_count": 17,
   "metadata": {},
   "outputs": [
    {
     "name": "stdout",
     "output_type": "stream",
     "text": [
      "15593.774828992837\n",
      "11863.478973611025\n",
      "9554.870425273904\n",
      "1.3930859013215868\n"
     ]
    }
   ],
   "source": [
    "print(mean_squared_error(stck_pred, y_test, squared=False))\n",
    "print(mean_absolute_error(stck_pred, y_test))\n",
    "print(median_absolute_error(stck_pred, y_test))\n",
    "print(mean_absolute_percentage_error(stck_pred, y_test ))"
   ]
  },
  {
   "cell_type": "code",
   "execution_count": 33,
   "metadata": {},
   "outputs": [
    {
     "data": {
      "text/plain": [
       "'6823'"
      ]
     },
     "execution_count": 33,
     "metadata": {},
     "output_type": "execute_result"
    }
   ],
   "source": []
  }
 ],
 "metadata": {
  "kernelspec": {
   "display_name": "Python 3",
   "language": "python",
   "name": "python3"
  },
  "language_info": {
   "codemirror_mode": {
    "name": "ipython",
    "version": 3
   },
   "file_extension": ".py",
   "mimetype": "text/x-python",
   "name": "python",
   "nbconvert_exporter": "python",
   "pygments_lexer": "ipython3",
   "version": "3.12.4"
  }
 },
 "nbformat": 4,
 "nbformat_minor": 2
}
