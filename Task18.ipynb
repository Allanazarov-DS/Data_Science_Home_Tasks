{
 "cells": [
  {
   "cell_type": "code",
   "execution_count": 43,
   "metadata": {},
   "outputs": [],
   "source": [
    "import pandas as pd\n",
    "from sklearn.linear_model import LinearRegression\n",
    "import numpy as np\n",
    "import seaborn as sns\n",
    "import matplotlib.pyplot as plt"
   ]
  },
  {
   "cell_type": "code",
   "execution_count": 44,
   "metadata": {},
   "outputs": [
    {
     "data": {
      "text/plain": [
       "(768, 9)"
      ]
     },
     "execution_count": 44,
     "metadata": {},
     "output_type": "execute_result"
    }
   ],
   "source": [
    "diabetes_df = pd.read_csv('diabetes_clean.csv')\n",
    "diabetes_df.shape"
   ]
  },
  {
   "cell_type": "code",
   "execution_count": 45,
   "metadata": {},
   "outputs": [
    {
     "data": {
      "text/html": [
       "<div>\n",
       "<style scoped>\n",
       "    .dataframe tbody tr th:only-of-type {\n",
       "        vertical-align: middle;\n",
       "    }\n",
       "\n",
       "    .dataframe tbody tr th {\n",
       "        vertical-align: top;\n",
       "    }\n",
       "\n",
       "    .dataframe thead th {\n",
       "        text-align: right;\n",
       "    }\n",
       "</style>\n",
       "<table border=\"1\" class=\"dataframe\">\n",
       "  <thead>\n",
       "    <tr style=\"text-align: right;\">\n",
       "      <th></th>\n",
       "      <th>pregnancies</th>\n",
       "      <th>glucose</th>\n",
       "      <th>diastolic</th>\n",
       "      <th>triceps</th>\n",
       "      <th>insulin</th>\n",
       "      <th>bmi</th>\n",
       "      <th>dpf</th>\n",
       "      <th>age</th>\n",
       "      <th>diabetes</th>\n",
       "    </tr>\n",
       "  </thead>\n",
       "  <tbody>\n",
       "    <tr>\n",
       "      <th>0</th>\n",
       "      <td>6</td>\n",
       "      <td>148</td>\n",
       "      <td>72</td>\n",
       "      <td>35</td>\n",
       "      <td>0</td>\n",
       "      <td>33.6</td>\n",
       "      <td>0.627</td>\n",
       "      <td>50</td>\n",
       "      <td>1</td>\n",
       "    </tr>\n",
       "    <tr>\n",
       "      <th>1</th>\n",
       "      <td>1</td>\n",
       "      <td>85</td>\n",
       "      <td>66</td>\n",
       "      <td>29</td>\n",
       "      <td>0</td>\n",
       "      <td>26.6</td>\n",
       "      <td>0.351</td>\n",
       "      <td>31</td>\n",
       "      <td>0</td>\n",
       "    </tr>\n",
       "    <tr>\n",
       "      <th>2</th>\n",
       "      <td>8</td>\n",
       "      <td>183</td>\n",
       "      <td>64</td>\n",
       "      <td>0</td>\n",
       "      <td>0</td>\n",
       "      <td>23.3</td>\n",
       "      <td>0.672</td>\n",
       "      <td>32</td>\n",
       "      <td>1</td>\n",
       "    </tr>\n",
       "    <tr>\n",
       "      <th>3</th>\n",
       "      <td>1</td>\n",
       "      <td>89</td>\n",
       "      <td>66</td>\n",
       "      <td>23</td>\n",
       "      <td>94</td>\n",
       "      <td>28.1</td>\n",
       "      <td>0.167</td>\n",
       "      <td>21</td>\n",
       "      <td>0</td>\n",
       "    </tr>\n",
       "    <tr>\n",
       "      <th>4</th>\n",
       "      <td>0</td>\n",
       "      <td>137</td>\n",
       "      <td>40</td>\n",
       "      <td>35</td>\n",
       "      <td>168</td>\n",
       "      <td>43.1</td>\n",
       "      <td>2.288</td>\n",
       "      <td>33</td>\n",
       "      <td>1</td>\n",
       "    </tr>\n",
       "  </tbody>\n",
       "</table>\n",
       "</div>"
      ],
      "text/plain": [
       "   pregnancies  glucose  diastolic  triceps  insulin   bmi    dpf  age  \\\n",
       "0            6      148         72       35        0  33.6  0.627   50   \n",
       "1            1       85         66       29        0  26.6  0.351   31   \n",
       "2            8      183         64        0        0  23.3  0.672   32   \n",
       "3            1       89         66       23       94  28.1  0.167   21   \n",
       "4            0      137         40       35      168  43.1  2.288   33   \n",
       "\n",
       "   diabetes  \n",
       "0         1  \n",
       "1         0  \n",
       "2         1  \n",
       "3         0  \n",
       "4         1  "
      ]
     },
     "execution_count": 45,
     "metadata": {},
     "output_type": "execute_result"
    }
   ],
   "source": [
    "diabetes_df.head()"
   ]
  },
  {
   "cell_type": "code",
   "execution_count": 46,
   "metadata": {},
   "outputs": [
    {
     "name": "stdout",
     "output_type": "stream",
     "text": [
      "<class 'numpy.ndarray'> <class 'numpy.ndarray'>\n"
     ]
    }
   ],
   "source": [
    "X = diabetes_df.drop('glucose', axis = 1).values\n",
    "y = diabetes_df['glucose'].values\n",
    "print(type(X), type(y))"
   ]
  },
  {
   "cell_type": "code",
   "execution_count": 47,
   "metadata": {},
   "outputs": [
    {
     "data": {
      "text/plain": [
       "array([[ 6.   , 72.   , 35.   , ...,  0.627, 50.   ,  1.   ],\n",
       "       [ 1.   , 66.   , 29.   , ...,  0.351, 31.   ,  0.   ],\n",
       "       [ 8.   , 64.   ,  0.   , ...,  0.672, 32.   ,  1.   ],\n",
       "       ...,\n",
       "       [ 5.   , 72.   , 23.   , ...,  0.245, 30.   ,  0.   ],\n",
       "       [ 1.   , 60.   ,  0.   , ...,  0.349, 47.   ,  1.   ],\n",
       "       [ 1.   , 70.   , 31.   , ...,  0.315, 23.   ,  0.   ]])"
      ]
     },
     "metadata": {},
     "output_type": "display_data"
    },
    {
     "data": {
      "text/plain": [
       "array([148,  85, 183,  89, 137, 116,  78, 115, 197, 125, 110, 168, 139,\n",
       "       189, 166, 100, 118, 107, 103, 115, 126,  99, 196, 119, 143, 125,\n",
       "       147,  97, 145, 117, 109, 158,  88,  92, 122, 103, 138, 102,  90,\n",
       "       111, 180, 133, 106, 171, 159, 180, 146,  71, 103, 105, 103, 101,\n",
       "        88, 176, 150,  73, 187, 100, 146, 105,  84, 133,  44, 141, 114,\n",
       "        99, 109, 109,  95, 146, 100, 139, 126, 129,  79,   0,  62,  95,\n",
       "       131, 112, 113,  74,  83, 101, 137, 110, 106, 100, 136, 107,  80,\n",
       "       123,  81, 134, 142, 144,  92,  71,  93, 122, 163, 151, 125,  81,\n",
       "        85, 126,  96, 144,  83,  95, 171, 155,  89,  76, 160, 146, 124,\n",
       "        78,  97,  99, 162, 111, 107, 132, 113,  88, 120, 118, 117, 105,\n",
       "       173, 122, 170,  84,  96, 125, 100,  93, 129, 105, 128, 106, 108,\n",
       "       108, 154, 102,  57, 106, 147,  90, 136, 114, 156, 153, 188, 152,\n",
       "        99, 109,  88, 163, 151, 102, 114, 100, 131, 104, 148, 120, 110,\n",
       "       111, 102, 134,  87,  79,  75, 179,  85, 129, 143, 130,  87, 119,\n",
       "         0,  73, 141, 194, 181, 128, 109, 139, 111, 123, 159, 135,  85,\n",
       "       158, 105, 107, 109, 148, 113, 138, 108,  99, 103, 111, 196, 162,\n",
       "        96, 184,  81, 147, 179, 140, 112, 151, 109, 125,  85, 112, 177,\n",
       "       158, 119, 142, 100,  87, 101, 162, 197, 117, 142, 134,  79, 122,\n",
       "        74, 171, 181, 179, 164, 104,  91,  91, 139, 119, 146, 184, 122,\n",
       "       165, 124, 111, 106, 129,  90,  86,  92, 113, 111, 114, 193, 155,\n",
       "       191, 141,  95, 142, 123,  96, 138, 128, 102, 146, 101, 108, 122,\n",
       "        71, 106, 100, 106, 104, 114, 108, 146, 129, 133, 161, 108, 136,\n",
       "       155, 119,  96, 108,  78, 107, 128, 128, 161, 151, 146, 126, 100,\n",
       "       112, 167, 144,  77, 115, 150, 120, 161, 137, 128, 124,  80, 106,\n",
       "       155, 113, 109, 112,  99, 182, 115, 194, 129, 112, 124, 152, 112,\n",
       "       157, 122, 179, 102, 105, 118,  87, 180, 106,  95, 165, 117, 115,\n",
       "       152, 178, 130,  95,   0, 122,  95, 126, 139, 116,  99,   0,  92,\n",
       "       137,  61,  90,  90, 165, 125, 129,  88, 196, 189, 158, 103, 146,\n",
       "       147,  99, 124, 101,  81, 133, 173, 118,  84, 105, 122, 140,  98,\n",
       "        87, 156,  93, 107, 105, 109,  90, 125, 119, 116, 105, 144, 100,\n",
       "       100, 166, 131, 116, 158, 127,  96, 131,  82, 193,  95, 137, 136,\n",
       "        72, 168, 123, 115, 101, 197, 172, 102, 112, 143, 143, 138, 173,\n",
       "        97, 144,  83, 129, 119,  94, 102, 115, 151, 184,  94, 181, 135,\n",
       "        95,  99,  89,  80, 139,  90, 141, 140, 147,  97, 107, 189,  83,\n",
       "       117, 108, 117, 180, 100,  95, 104, 120,  82, 134,  91, 119, 100,\n",
       "       175, 135,  86, 148, 134, 120,  71,  74,  88, 115, 124,  74,  97,\n",
       "       120, 154, 144, 137, 119, 136, 114, 137, 105, 114, 126, 132, 158,\n",
       "       123,  85,  84, 145, 135, 139, 173,  99, 194,  83,  89,  99, 125,\n",
       "        80, 166, 110,  81, 195, 154, 117,  84,   0,  94,  96,  75, 180,\n",
       "       130,  84, 120,  84, 139,  91,  91,  99, 163, 145, 125,  76, 129,\n",
       "        68, 124, 114, 130, 125,  87,  97, 116, 117, 111, 122, 107,  86,\n",
       "        91,  77, 132, 105,  57, 127, 129, 100, 128,  90,  84,  88, 186,\n",
       "       187, 131, 164, 189, 116,  84, 114,  88,  84, 124,  97, 110, 103,\n",
       "        85, 125, 198,  87,  99,  91,  95,  99,  92, 154, 121,  78, 130,\n",
       "       111,  98, 143, 119, 108, 118, 133, 197, 151, 109, 121, 100, 124,\n",
       "        93, 143, 103, 176,  73, 111, 112, 132,  82, 123, 188,  67,  89,\n",
       "       173, 109, 108,  96, 124, 150, 183, 124, 181,  92, 152, 111, 106,\n",
       "       174, 168, 105, 138, 106, 117,  68, 112, 119, 112,  92, 183,  94,\n",
       "       108,  90, 125, 132, 128,  94, 114, 102, 111, 128,  92, 104, 104,\n",
       "        94,  97, 100, 102, 128, 147,  90, 103, 157, 167, 179, 136, 107,\n",
       "        91, 117, 123, 120, 106, 155, 101, 120, 127,  80, 162, 199, 167,\n",
       "       145, 115, 112, 145, 111,  98, 154, 165,  99,  68, 123,  91, 195,\n",
       "       156,  93, 121, 101,  56, 162,  95, 125, 136, 129, 130, 107, 140,\n",
       "       144, 107, 158, 121, 129,  90, 142, 169,  99, 127, 118, 122, 125,\n",
       "       168, 129, 110,  80, 115, 127, 164,  93, 158, 126, 129, 134, 102,\n",
       "       187, 173,  94, 108,  97,  83, 114, 149, 117, 111, 112, 116, 141,\n",
       "       175,  92, 130, 120, 174, 106, 105,  95, 126,  65,  99, 102, 120,\n",
       "       102, 109, 140, 153, 100, 147,  81, 187, 162, 136, 121, 108, 181,\n",
       "       154, 128, 137, 123, 106, 190,  88, 170,  89, 101, 122, 121, 126,\n",
       "        93])"
      ]
     },
     "metadata": {},
     "output_type": "display_data"
    }
   ],
   "source": [
    "display(X, y)"
   ]
  },
  {
   "cell_type": "code",
   "execution_count": 48,
   "metadata": {},
   "outputs": [
    {
     "name": "stdout",
     "output_type": "stream",
     "text": [
      "(768,) (768,)\n"
     ]
    }
   ],
   "source": [
    "X_bmi = X[:, 3]\n",
    "print(y.shape, X_bmi.shape)"
   ]
  },
  {
   "cell_type": "code",
   "execution_count": 49,
   "metadata": {},
   "outputs": [
    {
     "data": {
      "text/plain": [
       "(768, 1)"
      ]
     },
     "execution_count": 49,
     "metadata": {},
     "output_type": "execute_result"
    }
   ],
   "source": [
    "X_bmi = X_bmi.reshape(-1, 1)\n",
    "X_bmi.shape"
   ]
  },
  {
   "cell_type": "code",
   "execution_count": 50,
   "metadata": {},
   "outputs": [
    {
     "data": {
      "image/png": "[encoded data removed]",
      "text/plain": [
       "<Figure size 640x480 with 1 Axes>"
      ]
     },
     "metadata": {},
     "output_type": "display_data"
    }
   ],
   "source": [
    "plt.scatter(X_bmi, y)\n",
    "plt.ylabel(\"Blood Glucose (mg/dl)\")\n",
    "plt.xlabel(\"Blood Index Mass\")\n",
    "plt.grid()\n",
    "plt.show()"
   ]
  },
  {
   "cell_type": "code",
   "execution_count": 51,
   "metadata": {},
   "outputs": [
    {
     "data": {
      "image/png": "[encoded data removed]",
      "text/plain": [
       "<Figure size 640x480 with 1 Axes>"
      ]
     },
     "metadata": {},
     "output_type": "display_data"
    }
   ],
   "source": [
    "reg = LinearRegression()\n",
    "reg.fit(X_bmi, y)\n",
    "predictions = reg.predict(X_bmi)\n",
    "plt.scatter(X_bmi, y)\n",
    "plt.plot(X_bmi, predictions)\n",
    "plt.ylabel('')\n",
    "plt.show()"
   ]
  },
  {
   "cell_type": "code",
   "execution_count": 52,
   "metadata": {},
   "outputs": [
    {
     "data": {
      "text/plain": [
       "0.28280468810375115"
      ]
     },
     "execution_count": 52,
     "metadata": {},
     "output_type": "execute_result"
    }
   ],
   "source": [
    "from sklearn.model_selection import train_test_split\n",
    "X_train, X_test, y_train, y_test = train_test_split(X, y, test_size = 0.3, random_state = 42)\n",
    "reg_all = LinearRegression()\n",
    "reg_all.fit(X_train, y_train)\n",
    "y_pred = reg_all.predict(X_test)\n",
    "reg_all.score(X_test, y_test)"
   ]
  },
  {
   "cell_type": "code",
   "execution_count": 53,
   "metadata": {},
   "outputs": [
    {
     "data": {
      "text/plain": [
       "np.float64(20.548453668839123)"
      ]
     },
     "execution_count": 53,
     "metadata": {},
     "output_type": "execute_result"
    }
   ],
   "source": [
    "from sklearn.metrics import mean_absolute_error\n",
    "mean_absolute_error(y_test, y_pred)\n"
   ]
  },
  {
   "cell_type": "code",
   "execution_count": 55,
   "metadata": {},
   "outputs": [
    {
     "data": {
      "text/html": [
       "<div>\n",
       "<style scoped>\n",
       "    .dataframe tbody tr th:only-of-type {\n",
       "        vertical-align: middle;\n",
       "    }\n",
       "\n",
       "    .dataframe tbody tr th {\n",
       "        vertical-align: top;\n",
       "    }\n",
       "\n",
       "    .dataframe thead th {\n",
       "        text-align: right;\n",
       "    }\n",
       "</style>\n",
       "<table border=\"1\" class=\"dataframe\">\n",
       "  <thead>\n",
       "    <tr style=\"text-align: right;\">\n",
       "      <th></th>\n",
       "      <th>pregnancies</th>\n",
       "      <th>glucose</th>\n",
       "      <th>diastolic</th>\n",
       "      <th>triceps</th>\n",
       "      <th>insulin</th>\n",
       "      <th>bmi</th>\n",
       "      <th>dpf</th>\n",
       "      <th>age</th>\n",
       "      <th>diabetes</th>\n",
       "    </tr>\n",
       "  </thead>\n",
       "  <tbody>\n",
       "    <tr>\n",
       "      <th>pregnancies</th>\n",
       "      <td>1.000000</td>\n",
       "      <td>0.129459</td>\n",
       "      <td>0.141282</td>\n",
       "      <td>-0.081672</td>\n",
       "      <td>-0.073535</td>\n",
       "      <td>0.017683</td>\n",
       "      <td>-0.033523</td>\n",
       "      <td>0.544341</td>\n",
       "      <td>0.221898</td>\n",
       "    </tr>\n",
       "    <tr>\n",
       "      <th>glucose</th>\n",
       "      <td>0.129459</td>\n",
       "      <td>1.000000</td>\n",
       "      <td>0.152590</td>\n",
       "      <td>0.057328</td>\n",
       "      <td>0.331357</td>\n",
       "      <td>0.221071</td>\n",
       "      <td>0.137337</td>\n",
       "      <td>0.263514</td>\n",
       "      <td>0.466581</td>\n",
       "    </tr>\n",
       "    <tr>\n",
       "      <th>diastolic</th>\n",
       "      <td>0.141282</td>\n",
       "      <td>0.152590</td>\n",
       "      <td>1.000000</td>\n",
       "      <td>0.207371</td>\n",
       "      <td>0.088933</td>\n",
       "      <td>0.281805</td>\n",
       "      <td>0.041265</td>\n",
       "      <td>0.239528</td>\n",
       "      <td>0.065068</td>\n",
       "    </tr>\n",
       "    <tr>\n",
       "      <th>triceps</th>\n",
       "      <td>-0.081672</td>\n",
       "      <td>0.057328</td>\n",
       "      <td>0.207371</td>\n",
       "      <td>1.000000</td>\n",
       "      <td>0.436783</td>\n",
       "      <td>0.392573</td>\n",
       "      <td>0.183928</td>\n",
       "      <td>-0.113970</td>\n",
       "      <td>0.074752</td>\n",
       "    </tr>\n",
       "    <tr>\n",
       "      <th>insulin</th>\n",
       "      <td>-0.073535</td>\n",
       "      <td>0.331357</td>\n",
       "      <td>0.088933</td>\n",
       "      <td>0.436783</td>\n",
       "      <td>1.000000</td>\n",
       "      <td>0.197859</td>\n",
       "      <td>0.185071</td>\n",
       "      <td>-0.042163</td>\n",
       "      <td>0.130548</td>\n",
       "    </tr>\n",
       "    <tr>\n",
       "      <th>bmi</th>\n",
       "      <td>0.017683</td>\n",
       "      <td>0.221071</td>\n",
       "      <td>0.281805</td>\n",
       "      <td>0.392573</td>\n",
       "      <td>0.197859</td>\n",
       "      <td>1.000000</td>\n",
       "      <td>0.140647</td>\n",
       "      <td>0.036242</td>\n",
       "      <td>0.292695</td>\n",
       "    </tr>\n",
       "    <tr>\n",
       "      <th>dpf</th>\n",
       "      <td>-0.033523</td>\n",
       "      <td>0.137337</td>\n",
       "      <td>0.041265</td>\n",
       "      <td>0.183928</td>\n",
       "      <td>0.185071</td>\n",
       "      <td>0.140647</td>\n",
       "      <td>1.000000</td>\n",
       "      <td>0.033561</td>\n",
       "      <td>0.173844</td>\n",
       "    </tr>\n",
       "    <tr>\n",
       "      <th>age</th>\n",
       "      <td>0.544341</td>\n",
       "      <td>0.263514</td>\n",
       "      <td>0.239528</td>\n",
       "      <td>-0.113970</td>\n",
       "      <td>-0.042163</td>\n",
       "      <td>0.036242</td>\n",
       "      <td>0.033561</td>\n",
       "      <td>1.000000</td>\n",
       "      <td>0.238356</td>\n",
       "    </tr>\n",
       "    <tr>\n",
       "      <th>diabetes</th>\n",
       "      <td>0.221898</td>\n",
       "      <td>0.466581</td>\n",
       "      <td>0.065068</td>\n",
       "      <td>0.074752</td>\n",
       "      <td>0.130548</td>\n",
       "      <td>0.292695</td>\n",
       "      <td>0.173844</td>\n",
       "      <td>0.238356</td>\n",
       "      <td>1.000000</td>\n",
       "    </tr>\n",
       "  </tbody>\n",
       "</table>\n",
       "</div>"
      ],
      "text/plain": [
       "             pregnancies   glucose  diastolic   triceps   insulin       bmi  \\\n",
       "pregnancies     1.000000  0.129459   0.141282 -0.081672 -0.073535  0.017683   \n",
       "glucose         0.129459  1.000000   0.152590  0.057328  0.331357  0.221071   \n",
       "diastolic       0.141282  0.152590   1.000000  0.207371  0.088933  0.281805   \n",
       "triceps        -0.081672  0.057328   0.207371  1.000000  0.436783  0.392573   \n",
       "insulin        -0.073535  0.331357   0.088933  0.436783  1.000000  0.197859   \n",
       "bmi             0.017683  0.221071   0.281805  0.392573  0.197859  1.000000   \n",
       "dpf            -0.033523  0.137337   0.041265  0.183928  0.185071  0.140647   \n",
       "age             0.544341  0.263514   0.239528 -0.113970 -0.042163  0.036242   \n",
       "diabetes        0.221898  0.466581   0.065068  0.074752  0.130548  0.292695   \n",
       "\n",
       "                  dpf       age  diabetes  \n",
       "pregnancies -0.033523  0.544341  0.221898  \n",
       "glucose      0.137337  0.263514  0.466581  \n",
       "diastolic    0.041265  0.239528  0.065068  \n",
       "triceps      0.183928 -0.113970  0.074752  \n",
       "insulin      0.185071 -0.042163  0.130548  \n",
       "bmi          0.140647  0.036242  0.292695  \n",
       "dpf          1.000000  0.033561  0.173844  \n",
       "age          0.033561  1.000000  0.238356  \n",
       "diabetes     0.173844  0.238356  1.000000  "
      ]
     },
     "execution_count": 55,
     "metadata": {},
     "output_type": "execute_result"
    }
   ],
   "source": [
    "diabetes_df.corr()"
   ]
  },
  {
   "cell_type": "code",
   "execution_count": null,
   "metadata": {},
   "outputs": [
    {
     "name": "stdout",
     "output_type": "stream",
     "text": [
      "210\n"
     ]
    }
   ],
   "source": []
  }
 ],
 "metadata": {
  "kernelspec": {
   "display_name": "Python 3",
   "language": "python",
   "name": "python3"
  },
  "language_info": {
   "codemirror_mode": {
    "name": "ipython",
    "version": 3
   },
   "file_extension": ".py",
   "mimetype": "text/x-python",
   "name": "python",
   "nbconvert_exporter": "python",
   "pygments_lexer": "ipython3",
   "version": "3.12.3"
  }
 },
 "nbformat": 4,
 "nbformat_minor": 2
}
