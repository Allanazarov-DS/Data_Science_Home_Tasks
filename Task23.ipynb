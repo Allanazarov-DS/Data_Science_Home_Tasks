{
 "cells": [
  {
   "cell_type": "code",
   "execution_count": 1,
   "metadata": {},
   "outputs": [],
   "source": [
    "import numpy as np\n",
    "import pandas as pd\n",
    "from sklearn.datasets import fetch_california_housing\n",
    "from sklearn.model_selection import train_test_split, GridSearchCV\n",
    "from sklearn.preprocessing import PolynomialFeatures, StandardScaler\n",
    "from sklearn.linear_model import Ridge, Lasso, ElasticNet\n",
    "from sklearn.pipeline import Pipeline\n",
    "from sklearn.metrics import mean_squared_error, mean_absolute_error"
   ]
  },
  {
   "cell_type": "code",
   "execution_count": 2,
   "metadata": {},
   "outputs": [],
   "source": [
    "california = fetch_california_housing()\n",
    "X = pd.DataFrame(california.data, columns=california.feature_names)\n",
    "y = california.target"
   ]
  },
  {
   "cell_type": "code",
   "execution_count": 3,
   "metadata": {},
   "outputs": [],
   "source": [
    "X_train, X_test, y_train, y_test = train_test_split(X, y, test_size=0.2, random_state=42)\n",
    "\n",
    "degrees = [1, 2, 3]\n",
    "alphas = [0.1, 1.0, 10.0]\n",
    "l1_ratios = [0.2, 0.5, 0.8]\n",
    "\n",
    "results = []\n"
   ]
  },
  {
   "cell_type": "code",
   "execution_count": 4,
   "metadata": {},
   "outputs": [],
   "source": [
    "for degree in degrees:\n",
    "    for model in [Ridge(), Lasso(), ElasticNet()]:\n",
    "        if isinstance(model, ElasticNet):\n",
    "            for l1_ratio in l1_ratios:\n",
    "                pipeline = Pipeline([\n",
    "                    ('poly', PolynomialFeatures(degree=degree)),\n",
    "                    ('scaler', StandardScaler()),\n",
    "                    ('model', ElasticNet())\n",
    "                ])\n",
    "\n",
    "                param_grid = {\n",
    "                    'model__alpha': alphas,\n",
    "                    'model__l1_ratio': [l1_ratio]\n",
    "                }\n",
    "\n",
    "                grid_search = GridSearchCV(pipeline, param_grid, cv=5, scoring='neg_mean_squared_error')\n",
    "                grid_search.fit(X_train, y_train)\n",
    "                best_model = grid_search.best_estimator_\n",
    "                y_pred = best_model.predict(X_test)\n",
    "                rmse = np.sqrt(mean_squared_error(y_test, y_pred))\n",
    "                mae = mean_absolute_error(y_test, y_pred)\n",
    "                results.append((degree, grid_search.best_params_['model__alpha'], l1_ratio, rmse, mae))\n",
    "        else:\n",
    "            pipeline = Pipeline([\n",
    "                ('poly', PolynomialFeatures(degree=degree)),\n",
    "                ('scaler', StandardScaler()),\n",
    "                ('model', model)\n",
    "            ])\n",
    "            param_grid = {\n",
    "                'model__alpha': alphas\n",
    "            }\n",
    "            grid_search = GridSearchCV(pipeline, param_grid, cv=5, scoring='neg_mean_squared_error')\n",
    "            grid_search.fit(X_train, y_train)\n",
    "            best_model = grid_search.best_estimator_\n",
    "            y_pred = best_model.predict(X_test)\n",
    "            rmse = np.sqrt(mean_squared_error(y_test, y_pred))\n",
    "            mae = mean_absolute_error(y_test, y_pred)\n",
    "            results.append((degree, grid_search.best_params_['model__alpha'], None, rmse, mae))\n",
    "\n",
    "best_result = min(results, key=lambda x: x[3]) \n",
    "degree, alpha, l1_ratio, best_rmse, best_mae = best_result"
   ]
  },
  {
   "cell_type": "code",
   "execution_count": 5,
   "metadata": {},
   "outputs": [
    {
     "name": "stdout",
     "output_type": "stream",
     "text": [
      "Best model parameters:\n",
      "Degree: 2\n",
      "Alpha: 1.0\n",
      "RMSE: 0.6876651202073971\n",
      "MAE: 0.48797138549474045\n"
     ]
    }
   ],
   "source": [
    "print(f\"Best model parameters:\")\n",
    "print(f\"Degree: {degree}\")\n",
    "print(f\"Alpha: {alpha}\")\n",
    "if l1_ratio is not None:\n",
    "    print(f\"L1 Ratio: {l1_ratio}\")\n",
    "print(f\"RMSE: {best_rmse}\")\n",
    "print(f\"MAE: {best_mae}\")"
   ]
  }
 ],
 "metadata": {
  "kernelspec": {
   "display_name": "Python 3",
   "language": "python",
   "name": "python3"
  },
  "language_info": {
   "codemirror_mode": {
    "name": "ipython",
    "version": 3
   },
   "file_extension": ".py",
   "mimetype": "text/x-python",
   "name": "python",
   "nbconvert_exporter": "python",
   "pygments_lexer": "ipython3",
   "version": "3.12.3"
  }
 },
 "nbformat": 4,
 "nbformat_minor": 2
}
