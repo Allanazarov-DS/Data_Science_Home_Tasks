{
 "cells": [
  {
   "cell_type": "code",
   "execution_count": 6,
   "metadata": {},
   "outputs": [],
   "source": [
    "import numpy as np\n",
    "import pandas as pd\n",
    "from sklearn.datasets import fetch_california_housing\n",
    "from sklearn.linear_model import LinearRegression, Ridge, Lasso, ElasticNet\n",
    "from sklearn.model_selection import cross_val_score, KFold, train_test_split\n",
    "from sklearn.metrics import mean_squared_error, mean_absolute_error, r2_score\n",
    "from sklearn.preprocessing import OrdinalEncoder\n",
    "from sklearn.pipeline import Pipeline\n",
    "from sklearn.model_selection import GridSearchCV, train_test_split, RandomizedSearchCV\n",
    "from sklearn.preprocessing import PolynomialFeatures\n",
    "import warnings\n",
    "import re\n",
    "import seaborn as sns\n",
    "import plotly.express as px\n",
    "import matplotlib.pyplot as plt\n",
    "warnings.filterwarnings('ignore')"
   ]
  },
  {
   "cell_type": "code",
   "execution_count": 7,
   "metadata": {},
   "outputs": [
    {
     "data": {
      "text/plain": [
       "(54273, 13)"
      ]
     },
     "execution_count": 7,
     "metadata": {},
     "output_type": "execute_result"
    }
   ],
   "source": [
    "df = pd.read_csv('car_prices.csv')\n",
    "df.shape"
   ]
  },
  {
   "cell_type": "code",
   "execution_count": 8,
   "metadata": {},
   "outputs": [],
   "source": [
    "def parse_engine_info(engine):\n",
    "    # engine ustunidan ma'lumotlarni ajratib olamiz\n",
    "    if pd.isna(engine):\n",
    "        return pd.Series([np.nan, np.nan, np.nan, np.nan, np.nan])\n",
    "\n",
    "    hp = re.search(r'(\\d+\\.?\\d*)HP', engine)\n",
    "    liter = re.search(r'(\\d+\\.?\\d*)L', engine)\n",
    "    motor = re.search(r'(Straight|V)\\s*\\d*', engine)\n",
    "    cylinder = re.search(r'(\\d+)\\s*Cylinder', engine)\n",
    "    fuel = re.search(r'(Gasoline|Hybrid|Flex|Diesel)', engine)\n",
    "\n",
    "    return pd.Series([\n",
    "        hp.group(1) if hp else np.nan,\n",
    "        liter.group(1) if liter else np.nan,\n",
    "        motor.group(0) if motor else np.nan,\n",
    "        cylinder.group(1) if cylinder else np.nan,\n",
    "        fuel.group(1) if fuel else np.nan\n",
    "    ])\n",
    "\n",
    "\n",
    "def fill_nan_mean(df, col, columns):\n",
    "    # numeric ustunlar uchun fill nall funcsiya\n",
    "    print(f\"Col: {col}, Columns: {columns}, Nan: {df[col].isna().sum()}\", end='')\n",
    "    value = df[df[col].notna()].groupby(by=columns)[col].mean().reset_index()\n",
    "    df = pd.merge(df, value, on=columns, how='left', suffixes=('', '_mean'))\n",
    "    df[col] = df[col].fillna(df[col + '_mean'])\n",
    "    df.drop(columns=[col + '_mean'], inplace=True)\n",
    "    print(f\", After Clean: {df[col].isna().sum()}\")\n",
    "    return df\n",
    "\n",
    "\n",
    "def fill_nan_mode(df, col, columns):\n",
    "    # object ustunlar uchun fill nall funcsiya\n",
    "    print(f\"Col: {col}, Columns: {columns}, Nan: {df[col].isna().sum()}\", end='')\n",
    "    mode_values = df.groupby(columns)[col].apply(lambda x: x.mode().iloc[0] if not x.mode().empty else pd.NA).reset_index()\n",
    "    df = pd.merge(df, mode_values, on=columns, how='left', suffixes=('', '_mode'))\n",
    "    df[col] = df[col].fillna(df[col + '_mode'])\n",
    "    df.drop(columns=[col + '_mode'], inplace=True)\n",
    "\n",
    "    print(f\", After Clean: {df[col].isna().sum()}\")\n",
    "    return df\n",
    "\n",
    "def to_numeric(x):\n",
    "    try:\n",
    "        return float(x)\n",
    "    except ValueError as err:\n",
    "        print(err)\n",
    "        return np.nan\n",
    "\n",
    "\n",
    "def ordinal_encoder(df, column, on):\n",
    "    # object ustunlni 'price' ustuniga soslanib sortlayb raqamga aylantiradi va yangi ustun yaratadi\n",
    "    avg_prices = df.groupby(column)[on].mean().reset_index()\n",
    "    avg_prices.columns = [column, 'avg_price']\n",
    "    avg_prices = avg_prices.sort_values(by='avg_price').reset_index(drop=True)\n",
    "    avg_prices[column+'_rank'] = avg_prices.index + 1\n",
    "    return pd.merge(df, avg_prices[[column, column+'_rank']], on=column, how='left')"
   ]
  },
  {
   "cell_type": "code",
   "execution_count": 9,
   "metadata": {},
   "outputs": [],
   "source": [
    "new_columns = ['hp', 'litr', 'motor', 'Cylinder', 'fuel']\n",
    "df[new_columns] = df['engine'].apply(parse_engine_info)"
   ]
  },
  {
   "cell_type": "code",
   "execution_count": 10,
   "metadata": {},
   "outputs": [],
   "source": [
    "df = df.drop(columns=['clean_title', 'id'])"
   ]
  },
  {
   "cell_type": "code",
   "execution_count": 11,
   "metadata": {},
   "outputs": [
    {
     "data": {
      "text/plain": [
       "hp           4057\n",
       "litr          606\n",
       "motor       29640\n",
       "Cylinder     4175\n",
       "fuel         4258\n",
       "dtype: int64"
      ]
     },
     "execution_count": 11,
     "metadata": {},
     "output_type": "execute_result"
    }
   ],
   "source": [
    "df[new_columns].isna().sum()"
   ]
  },
  {
   "cell_type": "code",
   "execution_count": 12,
   "metadata": {},
   "outputs": [
    {
     "name": "stdout",
     "output_type": "stream",
     "text": [
      "Col: hp, Columns: ['motor', 'Cylinder', 'litr'], Nan: 4057, After Clean: 4055\n",
      "Col: hp, Columns: ['motor', 'litr'], Nan: 4055, After Clean: 2809\n",
      "Col: hp, Columns: ['brand', 'model'], Nan: 2809, After Clean: 369\n",
      "Col: hp, Columns: ['litr', 'fuel_type'], Nan: 369, After Clean: 119\n",
      "Col: hp, Columns: ['model'], Nan: 119, After Clean: 111\n",
      "Col: hp, Columns: ['motor'], Nan: 111, After Clean: 107\n",
      "Col: hp, Columns: ['price', 'brand'], Nan: 107, After Clean: 23\n",
      "Col: hp, Columns: ['price', 'fuel_type'], Nan: 23, After Clean: 14\n",
      "Col: hp, Columns: ['engine'], Nan: 14, After Clean: 0\n",
      "0\n"
     ]
    }
   ],
   "source": [
    "df['hp'] = df['hp'].agg(to_numeric)\n",
    "\n",
    "df = fill_nan_mean(df.copy(), 'hp', ['motor', 'Cylinder', 'litr'])\n",
    "df = fill_nan_mean(df.copy(), 'hp', ['motor', 'litr'])\n",
    "df = fill_nan_mean(df.copy(), 'hp', ['brand', 'model'])\n",
    "df = fill_nan_mean(df.copy(), 'hp', ['litr', 'fuel_type'])\n",
    "df = fill_nan_mean(df.copy(), 'hp', ['model'])\n",
    "df = fill_nan_mean(df.copy(), 'hp', ['motor'])\n",
    "df = fill_nan_mean(df.copy(), 'hp', ['price', 'brand'])\n",
    "df = fill_nan_mean(df.copy(), 'hp', ['price', 'fuel_type'])\n",
    "df = fill_nan_mean(df.copy(), 'hp', ['engine'])\n",
    "\n",
    "print(df['hp'].isna().sum())"
   ]
  },
  {
   "cell_type": "code",
   "execution_count": 13,
   "metadata": {},
   "outputs": [
    {
     "name": "stdout",
     "output_type": "stream",
     "text": [
      "Col: litr, Columns: ['motor', 'Cylinder', 'hp'], Nan: 606, After Clean: 606\n",
      "Col: litr, Columns: ['hp', 'fuel_type'], Nan: 606, After Clean: 396\n",
      "Col: litr, Columns: ['model'], Nan: 396, After Clean: 124\n",
      "Col: litr, Columns: ['engine'], Nan: 124, After Clean: 46\n",
      "Col: litr, Columns: ['price', 'fuel_type'], Nan: 46, After Clean: 3\n",
      "Col: litr, Columns: ['price', 'transmission'], Nan: 3, After Clean: 0\n",
      "0\n"
     ]
    }
   ],
   "source": [
    "df['litr'] = df['litr'].agg(to_numeric)\n",
    "\n",
    "\n",
    "df = fill_nan_mean(df.copy(), 'litr', ['motor', 'Cylinder', 'hp'])\n",
    "# df = fill_nan_mean(df.copy(), 'litr', ['Cylinder', 'hp'])\n",
    "# df = fill_nan_mean(df.copy(), 'litr', ['motor', 'hp'])\n",
    "df = fill_nan_mean(df.copy(), 'litr', ['hp', 'fuel_type'])\n",
    "df = fill_nan_mean(df.copy(), 'litr', ['model'])\n",
    "df = fill_nan_mean(df.copy(), 'litr', ['engine'])\n",
    "df = fill_nan_mean(df.copy(), 'litr', ['price', 'fuel_type'])\n",
    "df = fill_nan_mean(df.copy(), 'litr', ['price', 'transmission'])\n",
    "\n",
    "\n",
    "print(df['litr'].isna().sum())"
   ]
  },
  {
   "cell_type": "code",
   "execution_count": 14,
   "metadata": {},
   "outputs": [
    {
     "name": "stdout",
     "output_type": "stream",
     "text": [
      "Col: Cylinder, Columns: ['litr', 'hp'], Nan: 4175, After Clean: 3772\n",
      "Col: Cylinder, Columns: ['litr', 'model'], Nan: 3772, After Clean: 1383\n",
      "Col: Cylinder, Columns: ['hp', 'model'], Nan: 1383, After Clean: 1033\n",
      "Col: Cylinder, Columns: ['model'], Nan: 1033, After Clean: 632\n",
      "Col: Cylinder, Columns: ['hp', 'fuel_type'], Nan: 632, After Clean: 214\n",
      "Col: Cylinder, Columns: ['price', 'fuel_type'], Nan: 214, After Clean: 32\n",
      "Col: Cylinder, Columns: ['price', 'transmission'], Nan: 32, After Clean: 8\n",
      "Col: Cylinder, Columns: ['litr', 'fuel_type'], Nan: 8, After Clean: 2\n",
      "Col: Cylinder, Columns: ['engine'], Nan: 2, After Clean: 0\n",
      "0\n"
     ]
    }
   ],
   "source": [
    "df['Cylinder'] = df['Cylinder'].agg(to_numeric)\n",
    "\n",
    "df = fill_nan_mean(df.copy(), 'Cylinder', ['litr', 'hp'])\n",
    "df = fill_nan_mean(df.copy(), 'Cylinder', ['litr', 'model'])\n",
    "df = fill_nan_mean(df.copy(), 'Cylinder', ['hp', 'model'])\n",
    "df = fill_nan_mean(df.copy(), 'Cylinder', ['model'])\n",
    "df = fill_nan_mean(df.copy(), 'Cylinder', ['hp', 'fuel_type'])\n",
    "df = fill_nan_mean(df.copy(), 'Cylinder', ['price', 'fuel_type'])\n",
    "df = fill_nan_mean(df.copy(), 'Cylinder', ['price', 'transmission'])\n",
    "df = fill_nan_mean(df.copy(), 'Cylinder', ['litr', 'fuel_type'])\n",
    "df = fill_nan_mean(df.copy(), 'Cylinder', ['engine'])\n",
    "\n",
    "\n",
    "print(df['Cylinder'].isna().sum())"
   ]
  },
  {
   "cell_type": "code",
   "execution_count": 15,
   "metadata": {},
   "outputs": [
    {
     "name": "stdout",
     "output_type": "stream",
     "text": [
      "Col: motor, Columns: ['litr', 'hp', 'Cylinder', 'model'], Nan: 29640, After Clean: 28986\n",
      "Col: motor, Columns: ['litr', 'hp', 'Cylinder'], Nan: 28986, After Clean: 21847\n",
      "Col: motor, Columns: ['litr', 'hp'], Nan: 21847, After Clean: 21438\n",
      "Col: motor, Columns: ['model'], Nan: 21438, After Clean: 6649\n",
      "Col: motor, Columns: ['engine'], Nan: 6649, After Clean: 1320\n",
      "Col: motor, Columns: ['fuel_type', 'hp'], Nan: 1320, After Clean: 522\n",
      "Col: motor, Columns: ['litr', 'Cylinder'], Nan: 522, After Clean: 76\n",
      "Col: motor, Columns: ['Cylinder', 'price'], Nan: 76, After Clean: 66\n",
      "Col: motor, Columns: ['Cylinder', 'brand'], Nan: 66, After Clean: 52\n",
      "Col: motor, Columns: ['litr', 'brand'], Nan: 52, After Clean: 40\n",
      "Col: motor, Columns: ['hp', 'brand'], Nan: 40, After Clean: 12\n",
      "Col: motor, Columns: ['hp', 'fuel'], Nan: 12, After Clean: 11\n",
      "Col: motor, Columns: ['brand', 'price'], Nan: 11, After Clean: 4\n",
      "Col: motor, Columns: ['brand', 'price'], Nan: 4, After Clean: 4\n",
      "Col: motor, Columns: ['brand', 'fuel_type'], Nan: 4, After Clean: 0\n",
      "0\n"
     ]
    }
   ],
   "source": [
    "df = fill_nan_mode(df.copy(), 'motor', ['litr', 'hp', 'Cylinder', 'model'])\n",
    "df = fill_nan_mode(df.copy(), 'motor', ['litr', 'hp', 'Cylinder'])\n",
    "df = fill_nan_mode(df.copy(), 'motor', ['litr', 'hp'])\n",
    "df = fill_nan_mode(df.copy(), 'motor', ['model'])\n",
    "df = fill_nan_mode(df.copy(), 'motor', ['engine'])\n",
    "df = fill_nan_mode(df.copy(), 'motor', ['fuel_type', 'hp'])\n",
    "df = fill_nan_mode(df.copy(), 'motor', ['litr', 'Cylinder'])\n",
    "df = fill_nan_mode(df.copy(), 'motor', ['Cylinder', 'price'])\n",
    "df = fill_nan_mode(df.copy(), 'motor', ['Cylinder', 'brand'])\n",
    "df = fill_nan_mode(df.copy(), 'motor', ['litr', 'brand'])\n",
    "df = fill_nan_mode(df.copy(), 'motor', ['hp', 'brand'])\n",
    "df = fill_nan_mode(df.copy(), 'motor', ['hp', 'fuel'])\n",
    "df = fill_nan_mode(df.copy(), 'motor', ['brand', 'price'])\n",
    "df = fill_nan_mode(df.copy(), 'motor', ['brand', 'price'])\n",
    "df = fill_nan_mode(df.copy(), 'motor', ['brand', 'fuel_type'])\n",
    "\n",
    "\n",
    "print(df['motor'].isna().sum())"
   ]
  },
  {
   "cell_type": "code",
   "execution_count": 16,
   "metadata": {},
   "outputs": [
    {
     "name": "stdout",
     "output_type": "stream",
     "text": [
      "Col: fuel, Columns: ['litr', 'hp', 'Cylinder', 'model'], Nan: 4258, After Clean: 3855\n",
      "Col: fuel, Columns: ['litr', 'hp', 'model'], Nan: 3855, After Clean: 3756\n",
      "Col: fuel, Columns: ['hp', 'model'], Nan: 3756, After Clean: 3515\n",
      "Col: fuel, Columns: ['model'], Nan: 3515, After Clean: 787\n",
      "Col: fuel, Columns: ['motor', 'hp'], Nan: 787, After Clean: 304\n",
      "Col: fuel, Columns: ['motor', 'hp'], Nan: 304, After Clean: 304\n",
      "Col: fuel, Columns: ['motor', 'Cylinder'], Nan: 304, After Clean: 182\n",
      "Col: fuel, Columns: ['motor', 'litr'], Nan: 182, After Clean: 58\n",
      "Col: fuel, Columns: ['motor'], Nan: 58, After Clean: 0\n",
      "0\n"
     ]
    }
   ],
   "source": [
    "df = fill_nan_mode(df.copy(), 'fuel', ['litr', 'hp', 'Cylinder', 'model'])\n",
    "df = fill_nan_mode(df.copy(), 'fuel', ['litr', 'hp', 'model'])\n",
    "df = fill_nan_mode(df.copy(), 'fuel', ['hp', 'model'])\n",
    "df = fill_nan_mode(df.copy(), 'fuel', ['model'])\n",
    "df = fill_nan_mode(df.copy(), 'fuel', ['motor', 'hp'])\n",
    "df = fill_nan_mode(df.copy(), 'fuel', ['motor', 'hp'])\n",
    "df = fill_nan_mode(df.copy(), 'fuel', ['motor', 'Cylinder'])\n",
    "df = fill_nan_mode(df.copy(), 'fuel', ['motor', 'litr'])\n",
    "df = fill_nan_mode(df.copy(), 'fuel', ['motor'])\n",
    "\n",
    "print(df['fuel'].isna().sum())"
   ]
  },
  {
   "cell_type": "code",
   "execution_count": 17,
   "metadata": {},
   "outputs": [
    {
     "data": {
      "text/plain": [
       "hp          0\n",
       "litr        0\n",
       "motor       0\n",
       "Cylinder    0\n",
       "fuel        0\n",
       "dtype: int64"
      ]
     },
     "execution_count": 17,
     "metadata": {},
     "output_type": "execute_result"
    }
   ],
   "source": [
    "df[new_columns].isna().sum()"
   ]
  },
  {
   "cell_type": "code",
   "execution_count": 18,
   "metadata": {},
   "outputs": [],
   "source": [
    "for col in df.select_dtypes(include='object').columns:\n",
    "    df = ordinal_encoder(df.copy(), col, 'price')"
   ]
  },
  {
   "cell_type": "code",
   "execution_count": 19,
   "metadata": {},
   "outputs": [
    {
     "name": "stdout",
     "output_type": "stream",
     "text": [
      "CV RMSE: 68040.11252712364\n",
      "RMSE: 69944.67979996078\n",
      "MAE: 19389.99585093425\n",
      "R2: 0.1094867627865036\n"
     ]
    }
   ],
   "source": [
    "columns = ['model_year',\n",
    "           'milage',\n",
    "           'hp',\n",
    "           'litr',\n",
    "           'Cylinder',\n",
    "           'brand_rank',\n",
    "           'model_rank',\n",
    "           'fuel_type_rank',\n",
    "           'engine_rank',\n",
    "           'transmission_rank',\n",
    "           'ext_col_rank',\n",
    "           'int_col_rank',\n",
    "           'accident_rank',\n",
    "           'motor_rank',\n",
    "           'fuel_rank'\n",
    "           ]\n",
    "\n",
    "X = df[columns]\n",
    "y = df['price']\n",
    "\n",
    "X_train, X_test, y_train, y_test = train_test_split(X, y, test_size=0.37, random_state=125)\n",
    "\n",
    "model = LinearRegression()\n",
    "\n",
    "cv = KFold(n_splits=5, shuffle=True, random_state=42)\n",
    "cv_rmse = np.sqrt(np.mean((-cross_val_score(model, X_train, y_train, cv=cv, scoring='neg_mean_squared_error'))))\n",
    "\n",
    "model.fit(X_train, y_train)\n",
    "\n",
    "y_pred = model.predict(X_test)\n",
    "\n",
    "rmse = mean_squared_error(y_test, y_pred, squared=False)\n",
    "mae = mean_absolute_error(y_test, y_pred)\n",
    "r2 = r2_score(y_test, y_pred)\n",
    "\n",
    "print(f'CV RMSE: {cv_rmse}')\n",
    "print(f'RMSE: {rmse}')\n",
    "print(f'MAE: {mae}')\n",
    "print(f'R2: {r2}')\n",
    "     "
   ]
  },
  {
   "cell_type": "code",
   "execution_count": 20,
   "metadata": {},
   "outputs": [
    {
     "name": "stdout",
     "output_type": "stream",
     "text": [
      "CV RMSE: 67275.41304041893\n",
      "RMSE: 68974.20666354457\n",
      "MAE: 18491.288393316543\n",
      "R2: 0.13402683398847626\n"
     ]
    }
   ],
   "source": [
    "poly = PolynomialFeatures(degree=2, include_bias=False)\n",
    "X_poly = poly.fit_transform(X)\n",
    "\n",
    "\n",
    "X_train, X_test, y_train, y_test = train_test_split(X_poly, y, test_size=0.37, random_state=125)\n",
    "\n",
    "model = LinearRegression()\n",
    "\n",
    "cv = KFold(n_splits=5, shuffle=True, random_state=42)\n",
    "cv_rmse = np.sqrt(np.mean((-cross_val_score(model, X_train, y_train, cv=cv, scoring='neg_mean_squared_error'))))\n",
    "\n",
    "model.fit(X_train, y_train)\n",
    "\n",
    "y_pred = model.predict(X_test)\n",
    "\n",
    "rmse = mean_squared_error(y_test, y_pred, squared=False)\n",
    "mae = mean_absolute_error(y_test, y_pred)\n",
    "r2 = r2_score(y_test, y_pred)\n",
    "\n",
    "print(f'CV RMSE: {cv_rmse}')\n",
    "print(f'RMSE: {rmse}')\n",
    "print(f'MAE: {mae}')\n",
    "print(f'R2: {r2}')"
   ]
  },
  {
   "cell_type": "code",
   "execution_count": 21,
   "metadata": {},
   "outputs": [],
   "source": [
    "data = df[df['price'] <= df['price'].quantile(0.95)]\n"
   ]
  },
  {
   "cell_type": "code",
   "execution_count": 22,
   "metadata": {},
   "outputs": [],
   "source": [
    "X = data[columns]\n",
    "y = data['price']"
   ]
  },
  {
   "cell_type": "code",
   "execution_count": 23,
   "metadata": {},
   "outputs": [
    {
     "name": "stdout",
     "output_type": "stream",
     "text": [
      "CV RMSE: 12015.06195400318\n",
      "RMSE: 11961.465232950877\n",
      "MAE: 8395.475539719695\n",
      "R2: 0.6362014296164731\n"
     ]
    }
   ],
   "source": [
    "poly = PolynomialFeatures(degree=2, include_bias=False)\n",
    "X_poly = poly.fit_transform(X)\n",
    "\n",
    "\n",
    "X_train, X_test, y_train, y_test = train_test_split(X_poly, y, test_size=0.37, random_state=125)\n",
    "\n",
    "model = LinearRegression()\n",
    "\n",
    "cv = KFold(n_splits=5, shuffle=True, random_state=42)\n",
    "cv_rmse = np.sqrt(np.mean((-cross_val_score(model, X_train, y_train, cv=cv, scoring='neg_mean_squared_error'))))\n",
    "\n",
    "model.fit(X_train, y_train)\n",
    "\n",
    "y_pred = model.predict(X_test)\n",
    "\n",
    "rmse = mean_squared_error(y_test, y_pred, squared=False)\n",
    "mae = mean_absolute_error(y_test, y_pred)\n",
    "r2 = r2_score(y_test, y_pred)\n",
    "\n",
    "print(f'CV RMSE: {cv_rmse}')\n",
    "print(f'RMSE: {rmse}')\n",
    "print(f'MAE: {mae}')\n",
    "print(f'R2: {r2}')"
   ]
  },
  {
   "cell_type": "code",
   "execution_count": null,
   "metadata": {},
   "outputs": [],
   "source": []
  }
 ],
 "metadata": {
  "kernelspec": {
   "display_name": "Python 3",
   "language": "python",
   "name": "python3"
  },
  "language_info": {
   "codemirror_mode": {
    "name": "ipython",
    "version": 3
   },
   "file_extension": ".py",
   "mimetype": "text/x-python",
   "name": "python",
   "nbconvert_exporter": "python",
   "pygments_lexer": "ipython3",
   "version": "3.12.3"
  }
 },
 "nbformat": 4,
 "nbformat_minor": 2
}
