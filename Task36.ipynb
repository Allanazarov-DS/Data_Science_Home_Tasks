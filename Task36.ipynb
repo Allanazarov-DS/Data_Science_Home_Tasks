{
 "cells": [
  {
   "cell_type": "code",
   "execution_count": null,
   "metadata": {},
   "outputs": [],
   "source": [
    "https://colab.research.google.com/drive/1F4M6kHUbiH4w2mbLQDh9QeNMcxlqbVPt#scrollTo=_AChvNAtjiBT\n",
    "\n"
   ]
  }
 ],
 "metadata": {
  "language_info": {
   "name": "python"
  }
 },
 "nbformat": 4,
 "nbformat_minor": 2
}
