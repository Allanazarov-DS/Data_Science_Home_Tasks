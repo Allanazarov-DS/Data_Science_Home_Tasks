{
 "cells": [
  {
   "cell_type": "code",
   "execution_count": 23,
   "metadata": {},
   "outputs": [],
   "source": [
    "import numpy as np"
   ]
  },
  {
   "cell_type": "code",
   "execution_count": 24,
   "metadata": {},
   "outputs": [],
   "source": [
    "X = np.array([1, 2, 3])\n",
    "y = np.array([30, 50, 70])"
   ]
  },
  {
   "cell_type": "code",
   "execution_count": 25,
   "metadata": {},
   "outputs": [],
   "source": [
    "w = 0\n",
    "b = 0\n",
    "learning_rate = 0.0001\n",
    "iterations = 100000"
   ]
  },
  {
   "cell_type": "code",
   "execution_count": 26,
   "metadata": {},
   "outputs": [],
   "source": [
    "def compute_loss(X, y, w, b):\n",
    "    n = len(y)\n",
    "    predictions = w * X + b\n",
    "    loss = (1/n) * np.sum((predictions - y) ** 2)\n",
    "    return loss"
   ]
  },
  {
   "cell_type": "code",
   "execution_count": 27,
   "metadata": {},
   "outputs": [
    {
     "name": "stdout",
     "output_type": "stream",
     "text": [
      "Iteration 0: Loss = 2760.532293185185, w = 0.02266666666666667, b = 0.01\n",
      "Iteration 10000: Loss = 0.08995507845622244, w = 20.348034269748332, b = 9.207998272762843\n",
      "Iteration 20000: Loss = 0.055618247970758046, w = 20.27390792449388, b = 9.377342892980804\n",
      "Iteration 30000: Loss = 0.03438840006425847, w = 20.215378296556302, b = 9.510394507328762\n",
      "Iteration 40000: Loss = 0.02126212353184941, w = 20.16935548660006, b = 9.615015172005984\n",
      "Iteration 50000: Loss = 0.013146232341109152, w = 20.13316699639713, b = 9.697280116330006\n",
      "Iteration 60000: Loss = 0.008128229737144058, w = 20.104711393090653, b = 9.76196639112598\n",
      "Iteration 70000: Loss = 0.005025631446756972, w = 20.082336285563553, b = 9.81283026979694\n",
      "Iteration 80000: Loss = 0.003107315154147129, w = 20.064742371582486, b = 9.852825371719591\n",
      "Iteration 90000: Loss = 0.001921232698712029, w = 20.050907988494206, b = 9.88427417624652\n",
      "Final: w = 20.040030748511658, b = 9.909000699418575\n"
     ]
    }
   ],
   "source": [
    "\n",
    "for i in range(iterations):\n",
    "    n = len(y)\n",
    "    predictions = w * X + b\n",
    "    \n",
    "    dw = -(2/n) * np.sum(X * (y - predictions))\n",
    "    db = -(2/n) * np.sum(y - predictions)\n",
    "    \n",
    "    w = w - learning_rate * dw\n",
    "    b = b - learning_rate * db\n",
    "    \n",
    "    if i % 10000 == 0:\n",
    "        loss = compute_loss(X, y, w, b)\n",
    "        print(f\"Iteration {i}: Loss = {loss}, w = {w}, b = {b}\")\n",
    "\n",
    "print(f\"Final: w = {w}, b = {b}\")\n"
   ]
  }
 ],
 "metadata": {
  "kernelspec": {
   "display_name": "Python 3",
   "language": "python",
   "name": "python3"
  },
  "language_info": {
   "codemirror_mode": {
    "name": "ipython",
    "version": 3
   },
   "file_extension": ".py",
   "mimetype": "text/x-python",
   "name": "python",
   "nbconvert_exporter": "python",
   "pygments_lexer": "ipython3",
   "version": "3.12.4"
  }
 },
 "nbformat": 4,
 "nbformat_minor": 2
}
